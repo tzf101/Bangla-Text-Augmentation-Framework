{
  "cells": [
    {
      "cell_type": "markdown",
      "metadata": {
        "id": "view-in-github",
        "colab_type": "text"
      },
      "source": [
        "<a href=\"https://colab.research.google.com/github/tzf101/BDA-Bangla-Text-Data-Augmentation/blob/main/utils_notebook/sr_ri_rd_rs_(latest_working).ipynb\" target=\"_parent\"><img src=\"https://colab.research.google.com/assets/colab-badge.svg\" alt=\"Open In Colab\"/></a>"
      ]
    },
    {
      "cell_type": "markdown",
      "source": [
        "# Mounting"
      ],
      "metadata": {
        "id": "3cmlQtoqB26_"
      }
    },
    {
      "cell_type": "code",
      "execution_count": 1,
      "metadata": {
        "colab": {
          "base_uri": "https://localhost:8080/"
        },
        "id": "FOeEB1YSMr6S",
        "outputId": "a110a2cf-7d92-471a-9c95-4a8d8c6cbfd5"
      },
      "outputs": [
        {
          "output_type": "stream",
          "name": "stdout",
          "text": [
            "Mounted at /content/MyDrive/\n"
          ]
        }
      ],
      "source": [
        "from google.colab import drive\n",
        "drive.mount(\"/content/MyDrive/\", force_remount=True)"
      ]
    },
    {
      "cell_type": "markdown",
      "metadata": {
        "id": "TudFKonjbZRC"
      },
      "source": [
        "# Loading Libraries\n",
        "\n"
      ]
    },
    {
      "cell_type": "code",
      "source": [
        "!pip install bnlp bnlp-toolkit"
      ],
      "metadata": {
        "colab": {
          "base_uri": "https://localhost:8080/"
        },
        "id": "Rt0xZDEQB0fE",
        "outputId": "ac1b85ed-3615-4907-eef2-624a1924189c"
      },
      "execution_count": 2,
      "outputs": [
        {
          "output_type": "stream",
          "name": "stdout",
          "text": [
            "Collecting bnlp\n",
            "  Downloading bnlp-0.8.tar.gz (25 kB)\n",
            "  Preparing metadata (setup.py) ... \u001b[?25l\u001b[?25hdone\n",
            "Collecting bnlp-toolkit\n",
            "  Downloading bnlp_toolkit-4.0.0-py3-none-any.whl (22 kB)\n",
            "Requirement already satisfied: sentencepiece in /usr/local/lib/python3.10/dist-packages (from bnlp-toolkit) (0.1.99)\n",
            "Requirement already satisfied: gensim in /usr/local/lib/python3.10/dist-packages (from bnlp-toolkit) (4.3.2)\n",
            "Requirement already satisfied: nltk in /usr/local/lib/python3.10/dist-packages (from bnlp-toolkit) (3.8.1)\n",
            "Requirement already satisfied: numpy in /usr/local/lib/python3.10/dist-packages (from bnlp-toolkit) (1.25.2)\n",
            "Requirement already satisfied: scipy in /usr/local/lib/python3.10/dist-packages (from bnlp-toolkit) (1.11.4)\n",
            "Collecting sklearn-crfsuite (from bnlp-toolkit)\n",
            "  Downloading sklearn_crfsuite-0.3.6-py2.py3-none-any.whl (12 kB)\n",
            "Requirement already satisfied: tqdm in /usr/local/lib/python3.10/dist-packages (from bnlp-toolkit) (4.66.2)\n",
            "Collecting ftfy (from bnlp-toolkit)\n",
            "  Downloading ftfy-6.2.0-py3-none-any.whl (54 kB)\n",
            "\u001b[2K     \u001b[90m━━━━━━━━━━━━━━━━━━━━━━━━━━━━━━━━━━━━━━━━\u001b[0m \u001b[32m54.4/54.4 kB\u001b[0m \u001b[31m3.0 MB/s\u001b[0m eta \u001b[36m0:00:00\u001b[0m\n",
            "\u001b[?25hCollecting emoji==1.7.0 (from bnlp-toolkit)\n",
            "  Downloading emoji-1.7.0.tar.gz (175 kB)\n",
            "\u001b[2K     \u001b[90m━━━━━━━━━━━━━━━━━━━━━━━━━━━━━━━━━━━━━━━━\u001b[0m \u001b[32m175.4/175.4 kB\u001b[0m \u001b[31m10.7 MB/s\u001b[0m eta \u001b[36m0:00:00\u001b[0m\n",
            "\u001b[?25h  Preparing metadata (setup.py) ... \u001b[?25l\u001b[?25hdone\n",
            "Requirement already satisfied: requests in /usr/local/lib/python3.10/dist-packages (from bnlp-toolkit) (2.31.0)\n",
            "Requirement already satisfied: wcwidth<0.3.0,>=0.2.12 in /usr/local/lib/python3.10/dist-packages (from ftfy->bnlp-toolkit) (0.2.13)\n",
            "Requirement already satisfied: smart-open>=1.8.1 in /usr/local/lib/python3.10/dist-packages (from gensim->bnlp-toolkit) (6.4.0)\n",
            "Requirement already satisfied: click in /usr/local/lib/python3.10/dist-packages (from nltk->bnlp-toolkit) (8.1.7)\n",
            "Requirement already satisfied: joblib in /usr/local/lib/python3.10/dist-packages (from nltk->bnlp-toolkit) (1.3.2)\n",
            "Requirement already satisfied: regex>=2021.8.3 in /usr/local/lib/python3.10/dist-packages (from nltk->bnlp-toolkit) (2023.12.25)\n",
            "Requirement already satisfied: charset-normalizer<4,>=2 in /usr/local/lib/python3.10/dist-packages (from requests->bnlp-toolkit) (3.3.2)\n",
            "Requirement already satisfied: idna<4,>=2.5 in /usr/local/lib/python3.10/dist-packages (from requests->bnlp-toolkit) (3.6)\n",
            "Requirement already satisfied: urllib3<3,>=1.21.1 in /usr/local/lib/python3.10/dist-packages (from requests->bnlp-toolkit) (2.0.7)\n",
            "Requirement already satisfied: certifi>=2017.4.17 in /usr/local/lib/python3.10/dist-packages (from requests->bnlp-toolkit) (2024.2.2)\n",
            "Collecting python-crfsuite>=0.8.3 (from sklearn-crfsuite->bnlp-toolkit)\n",
            "  Downloading python_crfsuite-0.9.10-cp310-cp310-manylinux_2_17_x86_64.manylinux2014_x86_64.whl (1.1 MB)\n",
            "\u001b[2K     \u001b[90m━━━━━━━━━━━━━━━━━━━━━━━━━━━━━━━━━━━━━━━━\u001b[0m \u001b[32m1.1/1.1 MB\u001b[0m \u001b[31m59.2 MB/s\u001b[0m eta \u001b[36m0:00:00\u001b[0m\n",
            "\u001b[?25hRequirement already satisfied: six in /usr/local/lib/python3.10/dist-packages (from sklearn-crfsuite->bnlp-toolkit) (1.16.0)\n",
            "Requirement already satisfied: tabulate in /usr/local/lib/python3.10/dist-packages (from sklearn-crfsuite->bnlp-toolkit) (0.9.0)\n",
            "Building wheels for collected packages: bnlp, emoji\n",
            "  Building wheel for bnlp (setup.py) ... \u001b[?25l\u001b[?25hdone\n",
            "  Created wheel for bnlp: filename=bnlp-0.8-py3-none-any.whl size=32803 sha256=1552e0efa6325a439bf68391b01d77b1e9d1de7fa4a2eb0f3f0314694b842e45\n",
            "  Stored in directory: /root/.cache/pip/wheels/64/c7/7e/272284eb8c800fbb5306bdf7904ae9f99a64812fc615f471b2\n",
            "  Building wheel for emoji (setup.py) ... \u001b[?25l\u001b[?25hdone\n",
            "  Created wheel for emoji: filename=emoji-1.7.0-py3-none-any.whl size=171034 sha256=60278e7564a7a70c100c642bd3a1045f92afba5b3505bbc51de14f936c366a73\n",
            "  Stored in directory: /root/.cache/pip/wheels/31/8a/8c/315c9e5d7773f74b33d5ed33f075b49c6eaeb7cedbb86e2cf8\n",
            "Successfully built bnlp emoji\n",
            "Installing collected packages: python-crfsuite, emoji, bnlp, sklearn-crfsuite, ftfy, bnlp-toolkit\n",
            "Successfully installed bnlp-0.8 bnlp-toolkit-4.0.0 emoji-1.7.0 ftfy-6.2.0 python-crfsuite-0.9.10 sklearn-crfsuite-0.3.6\n"
          ]
        }
      ]
    },
    {
      "cell_type": "markdown",
      "source": [
        "# Imports"
      ],
      "metadata": {
        "id": "PVNAuaNmB9mU"
      }
    },
    {
      "cell_type": "code",
      "execution_count": 3,
      "metadata": {
        "id": "MuR2C5hxey96",
        "colab": {
          "base_uri": "https://localhost:8080/"
        },
        "outputId": "b8f6928f-d9e9-4817-9aa5-a393d6fd991c"
      },
      "outputs": [
        {
          "output_type": "stream",
          "name": "stdout",
          "text": [
            "punkt not found. downloading...\n"
          ]
        },
        {
          "output_type": "stream",
          "name": "stderr",
          "text": [
            "[nltk_data] Downloading package punkt to /root/nltk_data...\n",
            "[nltk_data]   Unzipping tokenizers/punkt.zip.\n"
          ]
        }
      ],
      "source": [
        "import random\n",
        "from random import shuffle\n",
        "import re\n",
        "from bnlp import BengaliCorpus as corpus\n",
        "from bnlp import BengaliWord2Vec\n",
        "import random\n",
        "import pandas as pd"
      ]
    },
    {
      "cell_type": "markdown",
      "source": [
        "# SR"
      ],
      "metadata": {
        "id": "yd2VHEdPCDtd"
      }
    },
    {
      "cell_type": "code",
      "source": [
        "import random\n",
        "\n",
        "from bnlp import BengaliWord2Vec, BengaliCorpus\n",
        "\n",
        "class BengaliSynonymReplacer:\n",
        "    def __init__(self):\n",
        "        self.bwv = BengaliWord2Vec()\n",
        "        self.stopwords = set(BengaliCorpus.stopwords)\n",
        "\n",
        "    def get_synonyms(self, word):\n",
        "        synonyms = set()\n",
        "        try:\n",
        "            similar_words = self.bwv.get_most_similar_words(word, topn=10)\n",
        "            for word_tuple in similar_words:\n",
        "                synonyms.add(word_tuple[0])\n",
        "            if word in synonyms:\n",
        "                synonyms.remove(word)\n",
        "        except KeyError:\n",
        "            # Ignore words not in vocabulary\n",
        "            pass\n",
        "        return list(synonyms)\n",
        "\n",
        "    def augment(self, text, n, debug=False):\n",
        "        words = text.split()\n",
        "        new_words = words.copy()\n",
        "        random_word_list = list(set([word for word in words if word not in self.stopwords]))\n",
        "        random.shuffle(random_word_list)\n",
        "        num_replaced = 0\n",
        "        for random_word in random_word_list:\n",
        "            synonyms = self.get_synonyms(random_word)\n",
        "            if len(synonyms) >= 1:\n",
        "                synonym = random.choice(list(synonyms))\n",
        "                new_words = [synonym if word == random_word else word for word in new_words]\n",
        "                num_replaced += 1\n",
        "            if num_replaced >= n:\n",
        "                break\n",
        "\n",
        "        output = ' '.join(new_words)\n",
        "        if debug:\n",
        "            output += \"(sr)\"\n",
        "        return output\n",
        "\n",
        "    def apply_sr(self, row, n):\n",
        "        return self.augment(row['sentence1'], n)\n",
        "\n",
        "    def sr_and_evaluate_dataset(self, df, n):\n",
        "        df['augmented_text'] = df.apply(lambda row: self.apply_sr(row, n), axis=1)\n",
        "        df[\"method\"] = \"sr\" + str(n)\n",
        "        return df\n"
      ],
      "metadata": {
        "id": "SKnkUQpzD0yt"
      },
      "execution_count": 55,
      "outputs": []
    },
    {
      "cell_type": "markdown",
      "source": [
        "# RI"
      ],
      "metadata": {
        "id": "0zSdStwsUlj7"
      }
    },
    {
      "cell_type": "code",
      "source": [
        "import random\n",
        "from bnlp import BengaliWord2Vec, BengaliCorpus\n",
        "\n",
        "class BengaliRandomInsertion:\n",
        "    def __init__(self):\n",
        "        self.bwv = BengaliWord2Vec()\n",
        "        self.stopwords = set(BengaliCorpus.stopwords)\n",
        "\n",
        "    def get_synonyms(self, word):\n",
        "        synonyms = set()\n",
        "        try:\n",
        "            similar_words = self.bwv.get_most_similar_words(word, topn=10)\n",
        "            for word_tuple in similar_words:\n",
        "                synonyms.add(word_tuple[0])\n",
        "            if word in synonyms:\n",
        "                synonyms.remove(word)\n",
        "        except KeyError:\n",
        "            # Ignore words not in vocabulary\n",
        "            pass\n",
        "        return list(synonyms)\n",
        "\n",
        "    def add_word(self, new_words):\n",
        "        synonyms = []\n",
        "        attempts = 0\n",
        "        max_attempts = 10  # Set a maximum number of attempts to find a synonym\n",
        "\n",
        "        while len(synonyms) < 1 and attempts < max_attempts:\n",
        "            random_word = new_words[random.randint(0, len(new_words) - 1)]\n",
        "            synonyms = self.get_synonyms(random_word)\n",
        "            attempts += 1\n",
        "\n",
        "        if synonyms:\n",
        "            random_synonym = random.choice(synonyms)  # Choose a random synonym\n",
        "            random_idx = random.randint(0, len(new_words) - 1)\n",
        "            new_words.insert(random_idx, random_synonym)\n",
        "\n",
        "    def augment(self, text, n, debug=False):\n",
        "        words = text.split()\n",
        "        new_words = words.copy()\n",
        "        for _ in range(n):\n",
        "            self.add_word(new_words)\n",
        "        output = ' '.join(new_words)\n",
        "        if debug:\n",
        "            output += \"(ri)\"\n",
        "        return output\n",
        "\n",
        "    def apply_ri(self, row, n):\n",
        "        return self.augment(row['sentence1'], n)\n",
        "\n",
        "    def ri_and_evaluate_dataset(self, df, n):\n",
        "        df['augmented_text'] = df.apply(lambda row: self.apply_ri(row, n), axis=1)\n",
        "        df[\"method\"] = \"ri\" + str(n)\n",
        "        return df\n"
      ],
      "metadata": {
        "id": "GficTvb8UlMN"
      },
      "execution_count": 84,
      "outputs": []
    },
    {
      "cell_type": "markdown",
      "source": [
        "# RD"
      ],
      "metadata": {
        "id": "Zz0I9uu3eN3u"
      }
    },
    {
      "cell_type": "code",
      "source": [
        "class RD:\n",
        "    def __init__(self):\n",
        "        pass\n",
        "\n",
        "    def augment(self, text, p=0.3, debug=False):\n",
        "        words = text.split()\n",
        "\n",
        "        # Use list comprehension to select words to keep\n",
        "        new_words = [word for word in words if random.uniform(0, 1) > p]\n",
        "\n",
        "        # Handle the case where all words are removed\n",
        "        if not new_words:\n",
        "            rand_int = random.randint(0, len(words) - 1)\n",
        "            return words[rand_int]\n",
        "\n",
        "        output = ' '.join(new_words)\n",
        "        if debug:\n",
        "            output += \" (rd)\"\n",
        "        return output\n",
        "\n",
        "    def evaluate(self, df, p):\n",
        "        aug = []\n",
        "        for sample in df['sentence1']:\n",
        "            augmented_text = self.augment(sample, p)\n",
        "            aug.append(augmented_text)\n",
        "        df['augmented_sentence'] = aug\n",
        "        df['method'] = 'rd' + str(p)\n",
        "        return df"
      ],
      "metadata": {
        "id": "t_2zb2oHePJ4"
      },
      "execution_count": 4,
      "outputs": []
    },
    {
      "cell_type": "markdown",
      "source": [
        "# RS"
      ],
      "metadata": {
        "id": "-f_KxK2tvJyj"
      }
    },
    {
      "cell_type": "code",
      "source": [
        "import random\n",
        "\n",
        "class RS:\n",
        "    def __init__(self):\n",
        "        pass\n",
        "\n",
        "    def swap_word(self, new_words):\n",
        "        if len(new_words) > 1:  # Only swap if there are at least 2 words\n",
        "            random_idx_1, random_idx_2 = random.sample(range(len(new_words)), 2)\n",
        "            new_words[random_idx_1], new_words[random_idx_2] = new_words[random_idx_2], new_words[random_idx_1]\n",
        "        return new_words\n",
        "\n",
        "    def augment(self, text, n, debug=False):\n",
        "        words = text.split()\n",
        "        for _ in range(n):\n",
        "            self.swap_word(words)  # Modify in place\n",
        "        output = ' '.join(words)\n",
        "        if debug:\n",
        "            output += \" (rs)\"\n",
        "        return output\n",
        "\n",
        "    def evaluate(self, df, n):\n",
        "        aug = []\n",
        "        for sample in df['sentence1']:\n",
        "            augmented_text = self.augment(sample, n)\n",
        "            aug.append(augmented_text)\n",
        "        df['augmented_sentence'] = aug\n",
        "        df['method'] = 'rs' + str(n)\n",
        "        return df"
      ],
      "metadata": {
        "id": "6yEi4BRSvLCj"
      },
      "execution_count": 16,
      "outputs": []
    },
    {
      "cell_type": "code",
      "source": [
        "root_dir = '/content/MyDrive/MyDrive/Research/Thesis: BDA/Main/datasets/post mid/bmoc/'\n",
        "df = pd.read_csv(f'{root_dir}training_50.csv')"
      ],
      "metadata": {
        "id": "AD8sfvVEFiKn"
      },
      "execution_count": 7,
      "outputs": []
    },
    {
      "cell_type": "code",
      "source": [
        "SR_Aug = BengaliSynonymReplacer()\n",
        "output = SR_Aug.sr_and_evaluate_dataset(df, 2)"
      ],
      "metadata": {
        "id": "AHf4LGs0D-ob"
      },
      "execution_count": 82,
      "outputs": []
    },
    {
      "cell_type": "code",
      "source": [
        "output.to_csv(f'{root_dir}training_50_sr2.csv')"
      ],
      "metadata": {
        "id": "SG7IkIjEXnEf"
      },
      "execution_count": null,
      "outputs": []
    },
    {
      "cell_type": "code",
      "source": [
        "RI_Aug = BengaliRandomInsertion()\n",
        "output = RI_Aug.ri_and_evaluate_dataset(df, 2)"
      ],
      "metadata": {
        "id": "qUc7LJrxUxpc"
      },
      "execution_count": 99,
      "outputs": []
    },
    {
      "cell_type": "code",
      "source": [
        "output.to_csv(f'{root_dir}training_50_ri2.csv')"
      ],
      "metadata": {
        "id": "02zqfuzzExVL"
      },
      "execution_count": 88,
      "outputs": []
    },
    {
      "cell_type": "code",
      "source": [
        "RD_Aug = RD()\n",
        "output = RD_Aug.evaluate(df, 0.2)"
      ],
      "metadata": {
        "id": "aeWPMGfYe5dU"
      },
      "execution_count": 10,
      "outputs": []
    },
    {
      "cell_type": "code",
      "source": [
        "output.to_csv(f'{root_dir}training_50_rd2.csv')"
      ],
      "metadata": {
        "id": "ts6jmS0Rq5X9"
      },
      "execution_count": 12,
      "outputs": []
    },
    {
      "cell_type": "code",
      "source": [
        "rs = RS()\n",
        "# Assuming 'train' DataFrame is defined\n",
        "output = rs.evaluate(df, 2)"
      ],
      "metadata": {
        "id": "itcjZuM8vNf4"
      },
      "execution_count": 18,
      "outputs": []
    },
    {
      "cell_type": "code",
      "source": [
        "output.to_csv(f'{root_dir}training_50_rs2.csv')"
      ],
      "metadata": {
        "id": "rM85W3XUvkCr"
      },
      "execution_count": 20,
      "outputs": []
    },
    {
      "cell_type": "code",
      "source": [
        "output"
      ],
      "metadata": {
        "colab": {
          "base_uri": "https://localhost:8080/",
          "height": 988
        },
        "id": "LUBZMzevfB8-",
        "outputId": "e5c6e2ce-9ce1-4e48-fa8b-eba6c0d961d0"
      },
      "execution_count": 19,
      "outputs": [
        {
          "output_type": "execute_result",
          "data": {
            "text/plain": [
              "                                              sentence1     label  \\\n",
              "0     প্রতিদিন বাঁচো   যেভাবে ভাল্লাগে   দুরাশা নয় শ...       joy   \n",
              "1     ওখানে গিয়ে না খাইলেই হয়  সবাই যদি এইগুলা খাওয়া...     anger   \n",
              "2     চমকে লাফ দিয়ে শোয়া থেকে উঠে বসলো সার্জন  হাপরে...  surprise   \n",
              "3     চুয়েটে যাওয়ার আগে প্রতিবছর পহেলা বৈশাখ মানে ছি...       joy   \n",
              "4     সত্য বলা ও আমানত রক্ষা করা মুমিন ব্যক্তির সর্ব...   sadness   \n",
              "...                                                 ...       ...   \n",
              "2095  এগুলো সঠিকভাবে তুলে না ধরলে সরকার ধামাচাপা দিত...      fear   \n",
              "2096  দীর্ঘ আট বছর যাবত শরীরের কোন  হচ্ছে না ওজন    ...   sadness   \n",
              "2097  আমার চোখের আড়ালেই আমারে সারপ্রাইজ দিছে সবাই মি...  surprise   \n",
              "2098  আসলে এখানকার মুসলমানরা কখনোই বুঝবে না সংখ্যালঘ...   disgust   \n",
              "2099  তোর মন খারাপের রাতে  যখন একলা আকাশ দেখিস  খুব ...   sadness   \n",
              "\n",
              "                                     augmented_sentence method  \n",
              "0     প্রতিদিন দুরাশা যেভাবে হাঁসিতে বাঁচো নয় শুদ্ধ ...    rs2  \n",
              "1     ওখানে গিয়ে না খাইলেই হয় সবাই যদি এইগুলা কেনার ...    rs2  \n",
              "2     চমকে লাফ সার্জন শোয়া থেকে উঠে বসলো দিয়ে হাপরের...    rs2  \n",
              "3     চুয়েটে যাওয়ার আগে প্রতিবছর পহেলা বৈশাখ মানে ছি...    rs2  \n",
              "4     সত্য বলা রক্ষা আমানত ও করা মুমিন ব্যক্তির সর্ব...    rs2  \n",
              "...                                                 ...    ...  \n",
              "2095  হবে সঠিকভাবে তুলে না ধরলে সরকার ধামাচাপা দিতে ...    rs2  \n",
              "2096  দীর্ঘ পারছি বছর যাবত শরীরের কোন হচ্ছে না ওজন ই...    rs2  \n",
              "2097  আমার চোখের আড়ালেই আমারে সারপ্রাইজ দিছে সবাই বছ...    rs2  \n",
              "2098  আসলে এখানকার মুসলমানরা কখনোই বুঝবে না সংখ্যালঘ...    rs2  \n",
              "2099  তোর মন ইচ্ছে আছি যখন একলা আকাশ দেখিস খুব কাছেই...    rs2  \n",
              "\n",
              "[2100 rows x 4 columns]"
            ],
            "text/html": [
              "\n",
              "  <div id=\"df-32f10773-b877-41bc-a0c3-5288d4d21680\" class=\"colab-df-container\">\n",
              "    <div>\n",
              "<style scoped>\n",
              "    .dataframe tbody tr th:only-of-type {\n",
              "        vertical-align: middle;\n",
              "    }\n",
              "\n",
              "    .dataframe tbody tr th {\n",
              "        vertical-align: top;\n",
              "    }\n",
              "\n",
              "    .dataframe thead th {\n",
              "        text-align: right;\n",
              "    }\n",
              "</style>\n",
              "<table border=\"1\" class=\"dataframe\">\n",
              "  <thead>\n",
              "    <tr style=\"text-align: right;\">\n",
              "      <th></th>\n",
              "      <th>sentence1</th>\n",
              "      <th>label</th>\n",
              "      <th>augmented_sentence</th>\n",
              "      <th>method</th>\n",
              "    </tr>\n",
              "  </thead>\n",
              "  <tbody>\n",
              "    <tr>\n",
              "      <th>0</th>\n",
              "      <td>প্রতিদিন বাঁচো   যেভাবে ভাল্লাগে   দুরাশা নয় শ...</td>\n",
              "      <td>joy</td>\n",
              "      <td>প্রতিদিন দুরাশা যেভাবে হাঁসিতে বাঁচো নয় শুদ্ধ ...</td>\n",
              "      <td>rs2</td>\n",
              "    </tr>\n",
              "    <tr>\n",
              "      <th>1</th>\n",
              "      <td>ওখানে গিয়ে না খাইলেই হয়  সবাই যদি এইগুলা খাওয়া...</td>\n",
              "      <td>anger</td>\n",
              "      <td>ওখানে গিয়ে না খাইলেই হয় সবাই যদি এইগুলা কেনার ...</td>\n",
              "      <td>rs2</td>\n",
              "    </tr>\n",
              "    <tr>\n",
              "      <th>2</th>\n",
              "      <td>চমকে লাফ দিয়ে শোয়া থেকে উঠে বসলো সার্জন  হাপরে...</td>\n",
              "      <td>surprise</td>\n",
              "      <td>চমকে লাফ সার্জন শোয়া থেকে উঠে বসলো দিয়ে হাপরের...</td>\n",
              "      <td>rs2</td>\n",
              "    </tr>\n",
              "    <tr>\n",
              "      <th>3</th>\n",
              "      <td>চুয়েটে যাওয়ার আগে প্রতিবছর পহেলা বৈশাখ মানে ছি...</td>\n",
              "      <td>joy</td>\n",
              "      <td>চুয়েটে যাওয়ার আগে প্রতিবছর পহেলা বৈশাখ মানে ছি...</td>\n",
              "      <td>rs2</td>\n",
              "    </tr>\n",
              "    <tr>\n",
              "      <th>4</th>\n",
              "      <td>সত্য বলা ও আমানত রক্ষা করা মুমিন ব্যক্তির সর্ব...</td>\n",
              "      <td>sadness</td>\n",
              "      <td>সত্য বলা রক্ষা আমানত ও করা মুমিন ব্যক্তির সর্ব...</td>\n",
              "      <td>rs2</td>\n",
              "    </tr>\n",
              "    <tr>\n",
              "      <th>...</th>\n",
              "      <td>...</td>\n",
              "      <td>...</td>\n",
              "      <td>...</td>\n",
              "      <td>...</td>\n",
              "    </tr>\n",
              "    <tr>\n",
              "      <th>2095</th>\n",
              "      <td>এগুলো সঠিকভাবে তুলে না ধরলে সরকার ধামাচাপা দিত...</td>\n",
              "      <td>fear</td>\n",
              "      <td>হবে সঠিকভাবে তুলে না ধরলে সরকার ধামাচাপা দিতে ...</td>\n",
              "      <td>rs2</td>\n",
              "    </tr>\n",
              "    <tr>\n",
              "      <th>2096</th>\n",
              "      <td>দীর্ঘ আট বছর যাবত শরীরের কোন  হচ্ছে না ওজন    ...</td>\n",
              "      <td>sadness</td>\n",
              "      <td>দীর্ঘ পারছি বছর যাবত শরীরের কোন হচ্ছে না ওজন ই...</td>\n",
              "      <td>rs2</td>\n",
              "    </tr>\n",
              "    <tr>\n",
              "      <th>2097</th>\n",
              "      <td>আমার চোখের আড়ালেই আমারে সারপ্রাইজ দিছে সবাই মি...</td>\n",
              "      <td>surprise</td>\n",
              "      <td>আমার চোখের আড়ালেই আমারে সারপ্রাইজ দিছে সবাই বছ...</td>\n",
              "      <td>rs2</td>\n",
              "    </tr>\n",
              "    <tr>\n",
              "      <th>2098</th>\n",
              "      <td>আসলে এখানকার মুসলমানরা কখনোই বুঝবে না সংখ্যালঘ...</td>\n",
              "      <td>disgust</td>\n",
              "      <td>আসলে এখানকার মুসলমানরা কখনোই বুঝবে না সংখ্যালঘ...</td>\n",
              "      <td>rs2</td>\n",
              "    </tr>\n",
              "    <tr>\n",
              "      <th>2099</th>\n",
              "      <td>তোর মন খারাপের রাতে  যখন একলা আকাশ দেখিস  খুব ...</td>\n",
              "      <td>sadness</td>\n",
              "      <td>তোর মন ইচ্ছে আছি যখন একলা আকাশ দেখিস খুব কাছেই...</td>\n",
              "      <td>rs2</td>\n",
              "    </tr>\n",
              "  </tbody>\n",
              "</table>\n",
              "<p>2100 rows × 4 columns</p>\n",
              "</div>\n",
              "    <div class=\"colab-df-buttons\">\n",
              "\n",
              "  <div class=\"colab-df-container\">\n",
              "    <button class=\"colab-df-convert\" onclick=\"convertToInteractive('df-32f10773-b877-41bc-a0c3-5288d4d21680')\"\n",
              "            title=\"Convert this dataframe to an interactive table.\"\n",
              "            style=\"display:none;\">\n",
              "\n",
              "  <svg xmlns=\"http://www.w3.org/2000/svg\" height=\"24px\" viewBox=\"0 -960 960 960\">\n",
              "    <path d=\"M120-120v-720h720v720H120Zm60-500h600v-160H180v160Zm220 220h160v-160H400v160Zm0 220h160v-160H400v160ZM180-400h160v-160H180v160Zm440 0h160v-160H620v160ZM180-180h160v-160H180v160Zm440 0h160v-160H620v160Z\"/>\n",
              "  </svg>\n",
              "    </button>\n",
              "\n",
              "  <style>\n",
              "    .colab-df-container {\n",
              "      display:flex;\n",
              "      gap: 12px;\n",
              "    }\n",
              "\n",
              "    .colab-df-convert {\n",
              "      background-color: #E8F0FE;\n",
              "      border: none;\n",
              "      border-radius: 50%;\n",
              "      cursor: pointer;\n",
              "      display: none;\n",
              "      fill: #1967D2;\n",
              "      height: 32px;\n",
              "      padding: 0 0 0 0;\n",
              "      width: 32px;\n",
              "    }\n",
              "\n",
              "    .colab-df-convert:hover {\n",
              "      background-color: #E2EBFA;\n",
              "      box-shadow: 0px 1px 2px rgba(60, 64, 67, 0.3), 0px 1px 3px 1px rgba(60, 64, 67, 0.15);\n",
              "      fill: #174EA6;\n",
              "    }\n",
              "\n",
              "    .colab-df-buttons div {\n",
              "      margin-bottom: 4px;\n",
              "    }\n",
              "\n",
              "    [theme=dark] .colab-df-convert {\n",
              "      background-color: #3B4455;\n",
              "      fill: #D2E3FC;\n",
              "    }\n",
              "\n",
              "    [theme=dark] .colab-df-convert:hover {\n",
              "      background-color: #434B5C;\n",
              "      box-shadow: 0px 1px 3px 1px rgba(0, 0, 0, 0.15);\n",
              "      filter: drop-shadow(0px 1px 2px rgba(0, 0, 0, 0.3));\n",
              "      fill: #FFFFFF;\n",
              "    }\n",
              "  </style>\n",
              "\n",
              "    <script>\n",
              "      const buttonEl =\n",
              "        document.querySelector('#df-32f10773-b877-41bc-a0c3-5288d4d21680 button.colab-df-convert');\n",
              "      buttonEl.style.display =\n",
              "        google.colab.kernel.accessAllowed ? 'block' : 'none';\n",
              "\n",
              "      async function convertToInteractive(key) {\n",
              "        const element = document.querySelector('#df-32f10773-b877-41bc-a0c3-5288d4d21680');\n",
              "        const dataTable =\n",
              "          await google.colab.kernel.invokeFunction('convertToInteractive',\n",
              "                                                    [key], {});\n",
              "        if (!dataTable) return;\n",
              "\n",
              "        const docLinkHtml = 'Like what you see? Visit the ' +\n",
              "          '<a target=\"_blank\" href=https://colab.research.google.com/notebooks/data_table.ipynb>data table notebook</a>'\n",
              "          + ' to learn more about interactive tables.';\n",
              "        element.innerHTML = '';\n",
              "        dataTable['output_type'] = 'display_data';\n",
              "        await google.colab.output.renderOutput(dataTable, element);\n",
              "        const docLink = document.createElement('div');\n",
              "        docLink.innerHTML = docLinkHtml;\n",
              "        element.appendChild(docLink);\n",
              "      }\n",
              "    </script>\n",
              "  </div>\n",
              "\n",
              "\n",
              "<div id=\"df-03beb8ad-aea2-4ab7-bebf-4105a21b2a59\">\n",
              "  <button class=\"colab-df-quickchart\" onclick=\"quickchart('df-03beb8ad-aea2-4ab7-bebf-4105a21b2a59')\"\n",
              "            title=\"Suggest charts\"\n",
              "            style=\"display:none;\">\n",
              "\n",
              "<svg xmlns=\"http://www.w3.org/2000/svg\" height=\"24px\"viewBox=\"0 0 24 24\"\n",
              "     width=\"24px\">\n",
              "    <g>\n",
              "        <path d=\"M19 3H5c-1.1 0-2 .9-2 2v14c0 1.1.9 2 2 2h14c1.1 0 2-.9 2-2V5c0-1.1-.9-2-2-2zM9 17H7v-7h2v7zm4 0h-2V7h2v10zm4 0h-2v-4h2v4z\"/>\n",
              "    </g>\n",
              "</svg>\n",
              "  </button>\n",
              "\n",
              "<style>\n",
              "  .colab-df-quickchart {\n",
              "      --bg-color: #E8F0FE;\n",
              "      --fill-color: #1967D2;\n",
              "      --hover-bg-color: #E2EBFA;\n",
              "      --hover-fill-color: #174EA6;\n",
              "      --disabled-fill-color: #AAA;\n",
              "      --disabled-bg-color: #DDD;\n",
              "  }\n",
              "\n",
              "  [theme=dark] .colab-df-quickchart {\n",
              "      --bg-color: #3B4455;\n",
              "      --fill-color: #D2E3FC;\n",
              "      --hover-bg-color: #434B5C;\n",
              "      --hover-fill-color: #FFFFFF;\n",
              "      --disabled-bg-color: #3B4455;\n",
              "      --disabled-fill-color: #666;\n",
              "  }\n",
              "\n",
              "  .colab-df-quickchart {\n",
              "    background-color: var(--bg-color);\n",
              "    border: none;\n",
              "    border-radius: 50%;\n",
              "    cursor: pointer;\n",
              "    display: none;\n",
              "    fill: var(--fill-color);\n",
              "    height: 32px;\n",
              "    padding: 0;\n",
              "    width: 32px;\n",
              "  }\n",
              "\n",
              "  .colab-df-quickchart:hover {\n",
              "    background-color: var(--hover-bg-color);\n",
              "    box-shadow: 0 1px 2px rgba(60, 64, 67, 0.3), 0 1px 3px 1px rgba(60, 64, 67, 0.15);\n",
              "    fill: var(--button-hover-fill-color);\n",
              "  }\n",
              "\n",
              "  .colab-df-quickchart-complete:disabled,\n",
              "  .colab-df-quickchart-complete:disabled:hover {\n",
              "    background-color: var(--disabled-bg-color);\n",
              "    fill: var(--disabled-fill-color);\n",
              "    box-shadow: none;\n",
              "  }\n",
              "\n",
              "  .colab-df-spinner {\n",
              "    border: 2px solid var(--fill-color);\n",
              "    border-color: transparent;\n",
              "    border-bottom-color: var(--fill-color);\n",
              "    animation:\n",
              "      spin 1s steps(1) infinite;\n",
              "  }\n",
              "\n",
              "  @keyframes spin {\n",
              "    0% {\n",
              "      border-color: transparent;\n",
              "      border-bottom-color: var(--fill-color);\n",
              "      border-left-color: var(--fill-color);\n",
              "    }\n",
              "    20% {\n",
              "      border-color: transparent;\n",
              "      border-left-color: var(--fill-color);\n",
              "      border-top-color: var(--fill-color);\n",
              "    }\n",
              "    30% {\n",
              "      border-color: transparent;\n",
              "      border-left-color: var(--fill-color);\n",
              "      border-top-color: var(--fill-color);\n",
              "      border-right-color: var(--fill-color);\n",
              "    }\n",
              "    40% {\n",
              "      border-color: transparent;\n",
              "      border-right-color: var(--fill-color);\n",
              "      border-top-color: var(--fill-color);\n",
              "    }\n",
              "    60% {\n",
              "      border-color: transparent;\n",
              "      border-right-color: var(--fill-color);\n",
              "    }\n",
              "    80% {\n",
              "      border-color: transparent;\n",
              "      border-right-color: var(--fill-color);\n",
              "      border-bottom-color: var(--fill-color);\n",
              "    }\n",
              "    90% {\n",
              "      border-color: transparent;\n",
              "      border-bottom-color: var(--fill-color);\n",
              "    }\n",
              "  }\n",
              "</style>\n",
              "\n",
              "  <script>\n",
              "    async function quickchart(key) {\n",
              "      const quickchartButtonEl =\n",
              "        document.querySelector('#' + key + ' button');\n",
              "      quickchartButtonEl.disabled = true;  // To prevent multiple clicks.\n",
              "      quickchartButtonEl.classList.add('colab-df-spinner');\n",
              "      try {\n",
              "        const charts = await google.colab.kernel.invokeFunction(\n",
              "            'suggestCharts', [key], {});\n",
              "      } catch (error) {\n",
              "        console.error('Error during call to suggestCharts:', error);\n",
              "      }\n",
              "      quickchartButtonEl.classList.remove('colab-df-spinner');\n",
              "      quickchartButtonEl.classList.add('colab-df-quickchart-complete');\n",
              "    }\n",
              "    (() => {\n",
              "      let quickchartButtonEl =\n",
              "        document.querySelector('#df-03beb8ad-aea2-4ab7-bebf-4105a21b2a59 button');\n",
              "      quickchartButtonEl.style.display =\n",
              "        google.colab.kernel.accessAllowed ? 'block' : 'none';\n",
              "    })();\n",
              "  </script>\n",
              "</div>\n",
              "    </div>\n",
              "  </div>\n"
            ],
            "application/vnd.google.colaboratory.intrinsic+json": {
              "type": "dataframe",
              "variable_name": "df",
              "summary": "{\n  \"name\": \"df\",\n  \"rows\": 2100,\n  \"fields\": [\n    {\n      \"column\": \"sentence1\",\n      \"properties\": {\n        \"dtype\": \"string\",\n        \"num_unique_values\": 2084,\n        \"samples\": [\n          \"\\u09a6\\u09c1\\u09aa\\u09c1\\u09b0\\u09c7 \\u09b6\\u09be\\u09dc\\u09bf \\u09aa\\u09b0\\u09c7 \\u09b0\\u09be\\u09a8\\u09cd\\u09a8\\u09be \\u0995\\u09b0\\u09c7\\u099b\\u09bf  \\u09ac\\u09a8\\u09cd\\u09a7\\u09c1  \\u0986\\u09a4\\u09cd\\u09ae\\u09c0\\u09df\\u09b8\\u09cd\\u09ac\\u099c\\u09a8\\u09a6\\u09c7\\u09b0 \\u09b8\\u0999\\u09cd\\u0997\\u09c7 \\u09ad\\u09bf\\u09a1\\u09bf\\u0993\\u0995\\u09b2\\u09c7 \\u09b6\\u09c1\\u09ad \\u09a8\\u09ac\\u09ac\\u09b0\\u09cd\\u09b7\\u09c7\\u09b0 \\u09b6\\u09c1\\u09ad\\u09c7\\u099a\\u09cd\\u099b\\u09be \\u09ac\\u09bf\\u09a8\\u09bf\\u09ae\\u09df \\u0995\\u09b0\\u09c7\\u099b\\u09bf  \\u0995\\u09cb\\u09df\\u09be\\u09b0\\u09c7\\u09a8\\u09cd\\u099f\\u09be\\u0987\\u09a8\\u09c7 \\u098f\\u09b0 \\u099a\\u09c7\\u09df\\u09c7 \\u09ad\\u09be\\u09b2\\u09cb \\u09aa\\u09b9\\u09c7\\u09b2\\u09be \\u09ac\\u09c8\\u09b6\\u09be\\u0996 \\u09b9\\u09a4\\u09c7 \\u09aa\\u09be\\u09b0\\u09a4\\u09cb \\u09a8\\u09be  \",\n          \"\\u098f\\u0995\\u09cd\\u09b8\\u09aa\\u09cb \\u0985\\u09cd\\u09af\\u09be\\u0995\\u09b8\\u09c7\\u09b8\\u09b0\\u09bf\\u099c\\u09c7\\u09b0 \\u098f\\u0987 \\u09b6\\u09b8\\u09cd\\u09af\\u09a6\\u09be\\u09a8\\u09be \\u09a5\\u09c7\\u0995\\u09c7 \\u09a4\\u09c8\\u09b0\\u09bf \\u09ac\\u09cd\\u09af\\u09be\\u0997 \\u09aa\\u09b0\\u09bf\\u09ac\\u09c7\\u09b6\\u09ac\\u09be\\u09a8\\u09cd\\u09a7\\u09ac  \\u09a8\\u09bf\\u09b0\\u09cd\\u09a6\\u09bf\\u09b7\\u09cd\\u099f \\u09b8\\u09ae\\u09df\\u09c7\\u09b0 \\u09aa\\u09b0 \\u09a4\\u09be \\u09ae\\u09be\\u099f\\u09bf\\u09a4\\u09c7 \\u09ae\\u09bf\\u09b6\\u09c7 \\u09af\\u09be\\u09df \\u098f\\u09ac\\u0982 \\u09a6\\u09c7\\u0996\\u09a4\\u09c7\\u0993 \\u09aa\\u09b2\\u09bf\\u09a5\\u09bf\\u09a8\\u09c7\\u09b0 \\u09ae\\u09a4\\u09cb  \\u0995\\u09bf\\u09a8\\u09cd\\u09a4\\u09c1 \\u09a4\\u09be \\u09a4\\u09c8\\u09b0\\u09bf \\u09b9\\u099a\\u09cd\\u099b\\u09c7 \\u09b6\\u09b8\\u09cd\\u09af\\u09a6\\u09be\\u09a8\\u09be \\u09a6\\u09bf\\u09df\\u09c7  \\u098f\\u09b0 \\u0986\\u0997\\u09c7 \\u09aa\\u09be\\u099f \\u09a6\\u09bf\\u09df\\u09c7 \\u09aa\\u09b2\\u09bf\\u09a5\\u09bf\\u09a8 \\u09a4\\u09c8\\u09b0\\u09bf \\u0995\\u09b0\\u09be \\u09b9\\u09df\\u09c7\\u099b\\u09c7 \",\n          \"\\u09a4\\u0996\\u09a8\\u0995\\u09be\\u09b0 \\u09a4\\u09b0\\u09c1\\u09a3\\u09a6\\u09c7\\u09b0 \\u09aa\\u09cd\\u09b0\\u09c7\\u09ae\\u09b8\\u0982\\u0997\\u09c0\\u09a4 \\u09af\\u09c7\\u09a8 \\u09b9\\u09df\\u09c7 \\u0989\\u09a0\\u09c7\\u099b\\u09bf\\u09b2  \\u0993 \\u09aa\\u09cd\\u09b0\\u09bf\\u09df\\u09be \\u09a4\\u09c1\\u09ae\\u09bf \\u0995\\u09cb\\u09a5\\u09be\\u09df   \\u0986\\u09b8\\u09bf\\u09ab\\u09c7\\u09b0 \\u09ad\\u09b0\\u09be\\u099f \\u0995\\u09a3\\u09cd\\u09a0\\u09c7\\u09b0 \\u09b8\\u09c7\\u0987 \\u0997\\u09be\\u09a8 \\u09a6\\u09bf\\u09a8 \\u09b0\\u09be\\u09a4 \\u09ac\\u09be\\u099c\\u09a4\\u09c7 \\u09b6\\u09c1\\u09b0\\u09c1 \\u0995\\u09b0\\u09c7\\u099b\\u09bf\\u09b2 \\u09a6\\u09c7\\u09b6\\u09c7\\u09b0 \\u09aa\\u09be\\u09dc\\u09be \\u09ae\\u09b9\\u09b2\\u09cd\\u09b2\\u09be\\u09df  \\u09b0\\u09be\\u09a4\\u09be\\u09b0\\u09be\\u09a4\\u09bf \\u09ac\\u09a6\\u09b2\\u09c7 \\u0997\\u09bf\\u09df\\u09c7\\u099b\\u09bf\\u09b2 \\u0986\\u09b8\\u09bf\\u09ab\\u09c7\\u09b0 \\u099c\\u09c0\\u09ac\\u09a8 \"\n        ],\n        \"semantic_type\": \"\",\n        \"description\": \"\"\n      }\n    },\n    {\n      \"column\": \"label\",\n      \"properties\": {\n        \"dtype\": \"category\",\n        \"num_unique_values\": 6,\n        \"samples\": [\n          \"joy\",\n          \"anger\",\n          \"disgust\"\n        ],\n        \"semantic_type\": \"\",\n        \"description\": \"\"\n      }\n    },\n    {\n      \"column\": \"augmented_sentence\",\n      \"properties\": {\n        \"dtype\": \"string\",\n        \"num_unique_values\": 2100,\n        \"samples\": [\n          \"\\u09ad\\u09be\\u0987 \\u098f\\u0987 \\u09b6\\u09cb\\u099f\\u09be \\u09b9\\u09af\\u09bc\\u09c7\\u099b\\u09c7 \\u0995\\u09cb\\u09a5\\u09be\\u09af\\u09bc \\u0995\\u0996\\u09a8 \\u09b9\\u09af\\u09bc\\u09c7\\u099b\\u09c7 \\u09b8\\u09c7\\u099f\\u09be\\u0987 \\u09a4\\u09cb \\u0986\\u09ae\\u09b0\\u09be \\u099c\\u09be\\u09a8\\u09bf\\u09a8\\u09be \\u0986\\u09b0 \\u098f\\u0987 \\u099c\\u09a8\\u09cd\\u09a4\\u09c2 \\u0997\\u09c1\\u09b2\\u09cb \\u09ac\\u09c1\\u099d\\u09a4\\u09c7 \\u09a5\\u09c7\\u0995\\u09c7 \\u0986\\u09b8\\u09b2 \\u09a4\\u09be\\u09b0\\u09aa\\u09b0 \\u098f\\u0987 \\u09a2\\u09c7\\u0981\\u0995\\u09bf\\u09b0 \\u0997\\u09be\\u09a8 \\u0986\\u09ae\\u09bf \\u0995\\u09bf \\u09b9\\u09be\\u0981\\u09b8\\u09ac\\u09cb \\u09a8\\u09be\\u0995\\u09bf \\u0995\\u09be\\u0981\\u09a6\\u09ac\\u09cb \\u0995\\u09bf\\u099b\\u09c1\\u0987 \\u0995\\u09cb\\u09a5\\u09be\\u09af\\u09bc \\u09aa\\u09be\\u09b0\\u099b\\u09bf \\u09a8\\u09be\",\n          \"\\u09ac\\u09bf\\u09a6\\u09be\\u09df \\u09a6\\u09bf\\u09ac\\u09c7 \\u09a6\\u09bf\\u0995 \\u0995\\u09bf\\u09a8\\u09cd\\u09a4\\u09c1 \\u099c\\u09bf\\u09ae\\u09cd\\u09ac\\u09be\\u09ac\\u09c1\\u09df\\u09c7 \\u09ac\\u09bf\\u09aa\\u0995\\u09cd\\u09b7\\u09c7 \\u0995\\u09c7\\u09a8\\u09cb \\u0986\\u09b0 \\u0995\\u09cb\\u09a8\\u09cb \\u09af\\u09c7\\u09a4\\u09cb \\u09aa\\u09c7\\u09b2\\u09cb \\u09a8\\u09be \\u09ac\\u09bf\\u09a6\\u09be\\u09df\\u09c7\\u09b0 \\u099c\\u09a8\\u09cd\\u09af \\u09ad\\u09be\\u09b0\\u09a4\\u09c7\\u09b0 \\u09b8\\u09be\\u09a5\\u09c7 \\u0996\\u09c1\\u09ac \\u0985\\u09a8\\u09cd\\u09af \\u0995\\u09cb\\u09a8\\u09cb \\u09ac\\u09dc \\u09a6\\u09b2\\u09c7\\u09b0 \\u09b8\\u09be\\u09a5\\u09c7 \\u0995\\u09bf \\u098f\\u0995\\u099f\\u09bf \\u09ae\\u09cd\\u09af\\u09be\\u099a \\u0996\\u09c7\\u09b2\\u09a8\\u09cb \\u09a6\\u09b2 \\u09a8\\u09be \\u098f\\u0987 \\u09ac\\u09bf\\u09a6\\u09be\\u09df\\u099f\\u09be \\u09ac\\u09be \\u098f\\u0995\\u099f\\u09be \\u09ad\\u09be\\u09b2\\u09cb \\u09b9\\u09ac\\u09c7 \\u09a8\\u09be \\u09ae\\u09be\\u09b6\\u09b0\\u09be\\u09ab\\u09bf\\u09b0 \\u09ae\\u09a4 \\u098f\\u0995\\u099c\\u09a8 \\u09ac\\u09be\\u0982\\u09b2\\u09be\\u09a6\\u09c7\\u09b6 \\u09a5\\u09c7\\u0995\\u09c7 \\u09ac\\u09bf\\u09a6\\u09be\\u09df \\u09a8\\u09bf\\u09ac\\u09c7 \\u0986\\u09b0 \\u09b8\\u09c7\\u099f\\u09be \\u0995\\u09cb\\u09a8\\u09cb \\u0986\\u09a8\\u09cd\\u09a4\\u099c\\u09be\\u09b0\\u09cd\\u09a4\\u09bf\\u0995 \\u09aa\\u09b0\\u09cd\\u09af\\u09be\\u09df \\u09ad\\u09be\\u09b2\\u09cb \\u09ad\\u09be\\u09ac\\u09c7 \\u0997\\u09a8\\u09cd\\u09af \\u0995\\u09b0\\u09be \\u09b9\\u09ac\\u09c7 \\u09a8\\u09be \\u098f\\u099f\\u09be \\u09ac\\u09be\\u0982\\u09b2\\u09be\\u09a6\\u09c7\\u09b6\\u09c7\\u09b0 \\u099c\\u09a8\\u09cd\\u09af \\u098f\\u0995\\u099f\\u09be \\u0985\\u09aa\\u09ae\\u09be\\u09a8 \\u099c\\u09a8\\u0995 \\u099b\\u09be\\u09b0\\u09be \\u0986\\u09b0 \\u0995\\u09bf\\u099b\\u09c1\\u0987 \\u09a8\\u09df\",\n          \"\\u09ae\\u09be\\u09a8\\u09ac\\u099c\\u09be\\u09a4\\u09bf\\u09b0 \\u09b8\\u09cd\\u09b0\\u09b7\\u09cd\\u099f\\u09be \\u09a5\\u09be\\u0995\\u09c1\\u0995 \\u098f\\u09a4\\u09c7 \\u0989\\u09a6\\u09cd\\u09ac\\u09bf\\u0997\\u09cd\\u09a8 \\u09b9\\u09df\\u09c7 \\u09a8\\u09be \\u0995\\u09be\\u09b0\\u09a3 \\u0986\\u0997\\u09c1\\u09a8 \\u099b\\u09be\\u09dc\\u09be \\u09ae\\u09be\\u09a8\\u09c1\\u09b7 \\u09ac\\u09be\\u0981\\u099a\\u09a4\\u09c7 \\u09aa\\u09be\\u09b0\\u09ac\\u09c7 \\u09aa\\u09dc\\u09c7\\u09a8 \\u0989\\u09ce\\u09b8\\u09b0\\u09cd\\u0997 \\u09a4\\u09cb \\u09a6\\u09c2\\u09b0\\u09c7 \\u09aa\\u09cd\\u09b0\\u09ae\\u09bf\\u09a5\\u09bf\\u0989\\u09b8\"\n        ],\n        \"semantic_type\": \"\",\n        \"description\": \"\"\n      }\n    },\n    {\n      \"column\": \"method\",\n      \"properties\": {\n        \"dtype\": \"category\",\n        \"num_unique_values\": 1,\n        \"samples\": [\n          \"rs2\"\n        ],\n        \"semantic_type\": \"\",\n        \"description\": \"\"\n      }\n    }\n  ]\n}"
            }
          },
          "metadata": {},
          "execution_count": 19
        }
      ]
    },
    {
      "cell_type": "code",
      "source": [],
      "metadata": {
        "id": "vnhmusvyfCaP"
      },
      "execution_count": null,
      "outputs": []
    }
  ],
  "metadata": {
    "colab": {
      "provenance": [],
      "gpuType": "T4",
      "include_colab_link": true
    },
    "kernelspec": {
      "display_name": "Python 3",
      "name": "python3"
    },
    "language_info": {
      "name": "python"
    }
  },
  "nbformat": 4,
  "nbformat_minor": 0
}