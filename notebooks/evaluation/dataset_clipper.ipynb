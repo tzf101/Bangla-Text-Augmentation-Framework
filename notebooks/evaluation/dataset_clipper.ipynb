{
  "nbformat": 4,
  "nbformat_minor": 0,
  "metadata": {
    "colab": {
      "provenance": [],
      "authorship_tag": "ABX9TyN9G17Tj+JtRasvsgXBXD0a",
      "include_colab_link": true
    },
    "kernelspec": {
      "name": "python3",
      "display_name": "Python 3"
    },
    "language_info": {
      "name": "python"
    }
  },
  "cells": [
    {
      "cell_type": "markdown",
      "metadata": {
        "id": "view-in-github",
        "colab_type": "text"
      },
      "source": [
        "<a href=\"https://colab.research.google.com/github/tzf101/BDA-Bangla-Text-Data-Augmentation/blob/main/evaluation/dataset_clipper.ipynb\" target=\"_parent\"><img src=\"https://colab.research.google.com/assets/colab-badge.svg\" alt=\"Open In Colab\"/></a>"
      ]
    },
    {
      "cell_type": "markdown",
      "source": [
        "# Loading Libraries"
      ],
      "metadata": {
        "id": "5W7bAa7V3zyW"
      }
    },
    {
      "cell_type": "code",
      "execution_count": 1,
      "metadata": {
        "colab": {
          "base_uri": "https://localhost:8080/"
        },
        "id": "qaVIc7UF0fFA",
        "outputId": "b829e09e-28da-459e-8331-2c9ff7593952"
      },
      "outputs": [
        {
          "output_type": "stream",
          "name": "stdout",
          "text": [
            "Requirement already satisfied: pandas in /usr/local/lib/python3.10/dist-packages (1.5.3)\n",
            "Requirement already satisfied: python-dateutil>=2.8.1 in /usr/local/lib/python3.10/dist-packages (from pandas) (2.8.2)\n",
            "Requirement already satisfied: pytz>=2020.1 in /usr/local/lib/python3.10/dist-packages (from pandas) (2023.3.post1)\n",
            "Requirement already satisfied: numpy>=1.21.0 in /usr/local/lib/python3.10/dist-packages (from pandas) (1.23.5)\n",
            "Requirement already satisfied: six>=1.5 in /usr/local/lib/python3.10/dist-packages (from python-dateutil>=2.8.1->pandas) (1.16.0)\n"
          ]
        }
      ],
      "source": [
        "!pip install pandas"
      ]
    },
    {
      "cell_type": "code",
      "source": [
        "import pandas as pd"
      ],
      "metadata": {
        "id": "p9uwN5ay23WW"
      },
      "execution_count": 2,
      "outputs": []
    },
    {
      "cell_type": "code",
      "source": [
        "import matplotlib.pyplot as plt"
      ],
      "metadata": {
        "id": "oKuSX60d23Qt"
      },
      "execution_count": 3,
      "outputs": []
    },
    {
      "cell_type": "code",
      "source": [
        "from sklearn.model_selection import train_test_split"
      ],
      "metadata": {
        "id": "PesZnTd3aHMx"
      },
      "execution_count": 4,
      "outputs": []
    },
    {
      "cell_type": "code",
      "source": [
        "from google.colab import drive\n",
        "drive.mount('/content/MyDrive')"
      ],
      "metadata": {
        "colab": {
          "base_uri": "https://localhost:8080/"
        },
        "id": "N5VUhDCJ28V1",
        "outputId": "75e3f3f5-3e0a-43fb-f379-559e2396c114"
      },
      "execution_count": 5,
      "outputs": [
        {
          "output_type": "stream",
          "name": "stdout",
          "text": [
            "Mounted at /content/MyDrive\n"
          ]
        }
      ]
    },
    {
      "cell_type": "markdown",
      "source": [
        "# Loading dataset"
      ],
      "metadata": {
        "id": "ny4OYKdxFrPt"
      }
    },
    {
      "cell_type": "code",
      "source": [
        "# Change base path here\n",
        "base_path = '/content/MyDrive/MyDrive/Research/Thesis: BDA/Main/evaluation/sentnob/cleaned_original/'"
      ],
      "metadata": {
        "id": "KDOFNndfGLYg"
      },
      "execution_count": 6,
      "outputs": []
    },
    {
      "cell_type": "code",
      "source": [
        "train = pd.read_csv(base_path+'train.csv')"
      ],
      "metadata": {
        "id": "fs3p9QFC2-TI"
      },
      "execution_count": 7,
      "outputs": []
    },
    {
      "cell_type": "markdown",
      "source": [
        "# Viewing dataset"
      ],
      "metadata": {
        "id": "3IkQgl2_Fwhf"
      }
    },
    {
      "cell_type": "code",
      "source": [
        "train.head()"
      ],
      "metadata": {
        "colab": {
          "base_uri": "https://localhost:8080/",
          "height": 206
        },
        "id": "GoWsSS9i3AL9",
        "outputId": "79db4aef-0879-4566-d667-30d2153c0424"
      },
      "execution_count": 8,
      "outputs": [
        {
          "output_type": "execute_result",
          "data": {
            "text/plain": [
              "                                           sentence1  label\n",
              "0  স্বাস্থ্যবান হতে চাই আমি বয়সের তুলনায় অনেক বেশ...      0\n",
              "1                        ভাইয়া নতুন ভিডিও আসে না কেন      0\n",
              "2        সৌরভ গাঙ্গুলী ছাড়া দাদাগিরি কখনো জমে উঠত না      0\n",
              "3  ক্রিকেট কে বাচাতে হলে পাপকে অতিশিগ্রিই তাকেও গ...      2\n",
              "4                          আমিতো সেই ঝালপ্রিয়ো মানুষ      1"
            ],
            "text/html": [
              "\n",
              "  <div id=\"df-1c75ab92-f15f-414e-a7fb-235218ede8b4\" class=\"colab-df-container\">\n",
              "    <div>\n",
              "<style scoped>\n",
              "    .dataframe tbody tr th:only-of-type {\n",
              "        vertical-align: middle;\n",
              "    }\n",
              "\n",
              "    .dataframe tbody tr th {\n",
              "        vertical-align: top;\n",
              "    }\n",
              "\n",
              "    .dataframe thead th {\n",
              "        text-align: right;\n",
              "    }\n",
              "</style>\n",
              "<table border=\"1\" class=\"dataframe\">\n",
              "  <thead>\n",
              "    <tr style=\"text-align: right;\">\n",
              "      <th></th>\n",
              "      <th>sentence1</th>\n",
              "      <th>label</th>\n",
              "    </tr>\n",
              "  </thead>\n",
              "  <tbody>\n",
              "    <tr>\n",
              "      <th>0</th>\n",
              "      <td>স্বাস্থ্যবান হতে চাই আমি বয়সের তুলনায় অনেক বেশ...</td>\n",
              "      <td>0</td>\n",
              "    </tr>\n",
              "    <tr>\n",
              "      <th>1</th>\n",
              "      <td>ভাইয়া নতুন ভিডিও আসে না কেন</td>\n",
              "      <td>0</td>\n",
              "    </tr>\n",
              "    <tr>\n",
              "      <th>2</th>\n",
              "      <td>সৌরভ গাঙ্গুলী ছাড়া দাদাগিরি কখনো জমে উঠত না</td>\n",
              "      <td>0</td>\n",
              "    </tr>\n",
              "    <tr>\n",
              "      <th>3</th>\n",
              "      <td>ক্রিকেট কে বাচাতে হলে পাপকে অতিশিগ্রিই তাকেও গ...</td>\n",
              "      <td>2</td>\n",
              "    </tr>\n",
              "    <tr>\n",
              "      <th>4</th>\n",
              "      <td>আমিতো সেই ঝালপ্রিয়ো মানুষ</td>\n",
              "      <td>1</td>\n",
              "    </tr>\n",
              "  </tbody>\n",
              "</table>\n",
              "</div>\n",
              "    <div class=\"colab-df-buttons\">\n",
              "\n",
              "  <div class=\"colab-df-container\">\n",
              "    <button class=\"colab-df-convert\" onclick=\"convertToInteractive('df-1c75ab92-f15f-414e-a7fb-235218ede8b4')\"\n",
              "            title=\"Convert this dataframe to an interactive table.\"\n",
              "            style=\"display:none;\">\n",
              "\n",
              "  <svg xmlns=\"http://www.w3.org/2000/svg\" height=\"24px\" viewBox=\"0 -960 960 960\">\n",
              "    <path d=\"M120-120v-720h720v720H120Zm60-500h600v-160H180v160Zm220 220h160v-160H400v160Zm0 220h160v-160H400v160ZM180-400h160v-160H180v160Zm440 0h160v-160H620v160ZM180-180h160v-160H180v160Zm440 0h160v-160H620v160Z\"/>\n",
              "  </svg>\n",
              "    </button>\n",
              "\n",
              "  <style>\n",
              "    .colab-df-container {\n",
              "      display:flex;\n",
              "      gap: 12px;\n",
              "    }\n",
              "\n",
              "    .colab-df-convert {\n",
              "      background-color: #E8F0FE;\n",
              "      border: none;\n",
              "      border-radius: 50%;\n",
              "      cursor: pointer;\n",
              "      display: none;\n",
              "      fill: #1967D2;\n",
              "      height: 32px;\n",
              "      padding: 0 0 0 0;\n",
              "      width: 32px;\n",
              "    }\n",
              "\n",
              "    .colab-df-convert:hover {\n",
              "      background-color: #E2EBFA;\n",
              "      box-shadow: 0px 1px 2px rgba(60, 64, 67, 0.3), 0px 1px 3px 1px rgba(60, 64, 67, 0.15);\n",
              "      fill: #174EA6;\n",
              "    }\n",
              "\n",
              "    .colab-df-buttons div {\n",
              "      margin-bottom: 4px;\n",
              "    }\n",
              "\n",
              "    [theme=dark] .colab-df-convert {\n",
              "      background-color: #3B4455;\n",
              "      fill: #D2E3FC;\n",
              "    }\n",
              "\n",
              "    [theme=dark] .colab-df-convert:hover {\n",
              "      background-color: #434B5C;\n",
              "      box-shadow: 0px 1px 3px 1px rgba(0, 0, 0, 0.15);\n",
              "      filter: drop-shadow(0px 1px 2px rgba(0, 0, 0, 0.3));\n",
              "      fill: #FFFFFF;\n",
              "    }\n",
              "  </style>\n",
              "\n",
              "    <script>\n",
              "      const buttonEl =\n",
              "        document.querySelector('#df-1c75ab92-f15f-414e-a7fb-235218ede8b4 button.colab-df-convert');\n",
              "      buttonEl.style.display =\n",
              "        google.colab.kernel.accessAllowed ? 'block' : 'none';\n",
              "\n",
              "      async function convertToInteractive(key) {\n",
              "        const element = document.querySelector('#df-1c75ab92-f15f-414e-a7fb-235218ede8b4');\n",
              "        const dataTable =\n",
              "          await google.colab.kernel.invokeFunction('convertToInteractive',\n",
              "                                                    [key], {});\n",
              "        if (!dataTable) return;\n",
              "\n",
              "        const docLinkHtml = 'Like what you see? Visit the ' +\n",
              "          '<a target=\"_blank\" href=https://colab.research.google.com/notebooks/data_table.ipynb>data table notebook</a>'\n",
              "          + ' to learn more about interactive tables.';\n",
              "        element.innerHTML = '';\n",
              "        dataTable['output_type'] = 'display_data';\n",
              "        await google.colab.output.renderOutput(dataTable, element);\n",
              "        const docLink = document.createElement('div');\n",
              "        docLink.innerHTML = docLinkHtml;\n",
              "        element.appendChild(docLink);\n",
              "      }\n",
              "    </script>\n",
              "  </div>\n",
              "\n",
              "\n",
              "<div id=\"df-c0ba302c-335b-4e49-828b-040fc2063aee\">\n",
              "  <button class=\"colab-df-quickchart\" onclick=\"quickchart('df-c0ba302c-335b-4e49-828b-040fc2063aee')\"\n",
              "            title=\"Suggest charts\"\n",
              "            style=\"display:none;\">\n",
              "\n",
              "<svg xmlns=\"http://www.w3.org/2000/svg\" height=\"24px\"viewBox=\"0 0 24 24\"\n",
              "     width=\"24px\">\n",
              "    <g>\n",
              "        <path d=\"M19 3H5c-1.1 0-2 .9-2 2v14c0 1.1.9 2 2 2h14c1.1 0 2-.9 2-2V5c0-1.1-.9-2-2-2zM9 17H7v-7h2v7zm4 0h-2V7h2v10zm4 0h-2v-4h2v4z\"/>\n",
              "    </g>\n",
              "</svg>\n",
              "  </button>\n",
              "\n",
              "<style>\n",
              "  .colab-df-quickchart {\n",
              "      --bg-color: #E8F0FE;\n",
              "      --fill-color: #1967D2;\n",
              "      --hover-bg-color: #E2EBFA;\n",
              "      --hover-fill-color: #174EA6;\n",
              "      --disabled-fill-color: #AAA;\n",
              "      --disabled-bg-color: #DDD;\n",
              "  }\n",
              "\n",
              "  [theme=dark] .colab-df-quickchart {\n",
              "      --bg-color: #3B4455;\n",
              "      --fill-color: #D2E3FC;\n",
              "      --hover-bg-color: #434B5C;\n",
              "      --hover-fill-color: #FFFFFF;\n",
              "      --disabled-bg-color: #3B4455;\n",
              "      --disabled-fill-color: #666;\n",
              "  }\n",
              "\n",
              "  .colab-df-quickchart {\n",
              "    background-color: var(--bg-color);\n",
              "    border: none;\n",
              "    border-radius: 50%;\n",
              "    cursor: pointer;\n",
              "    display: none;\n",
              "    fill: var(--fill-color);\n",
              "    height: 32px;\n",
              "    padding: 0;\n",
              "    width: 32px;\n",
              "  }\n",
              "\n",
              "  .colab-df-quickchart:hover {\n",
              "    background-color: var(--hover-bg-color);\n",
              "    box-shadow: 0 1px 2px rgba(60, 64, 67, 0.3), 0 1px 3px 1px rgba(60, 64, 67, 0.15);\n",
              "    fill: var(--button-hover-fill-color);\n",
              "  }\n",
              "\n",
              "  .colab-df-quickchart-complete:disabled,\n",
              "  .colab-df-quickchart-complete:disabled:hover {\n",
              "    background-color: var(--disabled-bg-color);\n",
              "    fill: var(--disabled-fill-color);\n",
              "    box-shadow: none;\n",
              "  }\n",
              "\n",
              "  .colab-df-spinner {\n",
              "    border: 2px solid var(--fill-color);\n",
              "    border-color: transparent;\n",
              "    border-bottom-color: var(--fill-color);\n",
              "    animation:\n",
              "      spin 1s steps(1) infinite;\n",
              "  }\n",
              "\n",
              "  @keyframes spin {\n",
              "    0% {\n",
              "      border-color: transparent;\n",
              "      border-bottom-color: var(--fill-color);\n",
              "      border-left-color: var(--fill-color);\n",
              "    }\n",
              "    20% {\n",
              "      border-color: transparent;\n",
              "      border-left-color: var(--fill-color);\n",
              "      border-top-color: var(--fill-color);\n",
              "    }\n",
              "    30% {\n",
              "      border-color: transparent;\n",
              "      border-left-color: var(--fill-color);\n",
              "      border-top-color: var(--fill-color);\n",
              "      border-right-color: var(--fill-color);\n",
              "    }\n",
              "    40% {\n",
              "      border-color: transparent;\n",
              "      border-right-color: var(--fill-color);\n",
              "      border-top-color: var(--fill-color);\n",
              "    }\n",
              "    60% {\n",
              "      border-color: transparent;\n",
              "      border-right-color: var(--fill-color);\n",
              "    }\n",
              "    80% {\n",
              "      border-color: transparent;\n",
              "      border-right-color: var(--fill-color);\n",
              "      border-bottom-color: var(--fill-color);\n",
              "    }\n",
              "    90% {\n",
              "      border-color: transparent;\n",
              "      border-bottom-color: var(--fill-color);\n",
              "    }\n",
              "  }\n",
              "</style>\n",
              "\n",
              "  <script>\n",
              "    async function quickchart(key) {\n",
              "      const quickchartButtonEl =\n",
              "        document.querySelector('#' + key + ' button');\n",
              "      quickchartButtonEl.disabled = true;  // To prevent multiple clicks.\n",
              "      quickchartButtonEl.classList.add('colab-df-spinner');\n",
              "      try {\n",
              "        const charts = await google.colab.kernel.invokeFunction(\n",
              "            'suggestCharts', [key], {});\n",
              "      } catch (error) {\n",
              "        console.error('Error during call to suggestCharts:', error);\n",
              "      }\n",
              "      quickchartButtonEl.classList.remove('colab-df-spinner');\n",
              "      quickchartButtonEl.classList.add('colab-df-quickchart-complete');\n",
              "    }\n",
              "    (() => {\n",
              "      let quickchartButtonEl =\n",
              "        document.querySelector('#df-c0ba302c-335b-4e49-828b-040fc2063aee button');\n",
              "      quickchartButtonEl.style.display =\n",
              "        google.colab.kernel.accessAllowed ? 'block' : 'none';\n",
              "    })();\n",
              "  </script>\n",
              "</div>\n",
              "    </div>\n",
              "  </div>\n"
            ]
          },
          "metadata": {},
          "execution_count": 8
        }
      ]
    },
    {
      "cell_type": "markdown",
      "source": [
        "# Optional Renaming columns\n",
        "Output df should have columns \"sentence1\", \"label\""
      ],
      "metadata": {
        "id": "irlLBky7GrhD"
      }
    },
    {
      "cell_type": "code",
      "source": [
        "# import pandas as pd\n",
        "\n",
        "# # Assuming df is your original DataFrame\n",
        "# # df = pd.DataFrame({...})\n",
        "\n",
        "# # Create a new DataFrame with selected columns\n",
        "# df = train[['Review', 'label']].copy()\n",
        "# df.columns = ['sentence1', 'label']\n",
        "\n",
        "# # Now, new_df has 'column4' and 'column5' with data from 'column1' and 'column3', respectively\n"
      ],
      "metadata": {
        "id": "mOxEMnm8GrP8"
      },
      "execution_count": 9,
      "outputs": []
    },
    {
      "cell_type": "code",
      "source": [
        "# train = df\n",
        "# train"
      ],
      "metadata": {
        "id": "nkDPToOgOq_S"
      },
      "execution_count": 10,
      "outputs": []
    },
    {
      "cell_type": "markdown",
      "source": [
        "# Visualization"
      ],
      "metadata": {
        "id": "CvUh5H9EO7xV"
      }
    },
    {
      "cell_type": "code",
      "source": [
        "import matplotlib.pyplot as plt\n",
        "\n",
        "plt.figure(figsize=(8, 6))\n",
        "train['label'].value_counts().plot(kind='bar', color=['#1f77b4', '#aec7e8', '#9467bd'])  # Dark blue, light blue, and purple\n",
        "plt.title('Class Distribution', fontsize=14, fontweight='bold')\n",
        "plt.xlabel('Class Label', fontsize=12)\n",
        "plt.ylabel('Frequency', fontsize=12)\n",
        "\n",
        "# Adding value labels to each bar\n",
        "for index, value in enumerate(train['label'].value_counts()):\n",
        "    plt.text(index, value, str(value), ha='center', va='bottom', fontsize=10)\n",
        "\n",
        "plt.xticks(rotation=0)  # Keeps the class labels horizontal\n",
        "plt.grid(axis='y', linestyle='--', alpha=0.7)  # Adds a grid for easier reading\n",
        "plt.tight_layout()\n",
        "plt.show()"
      ],
      "metadata": {
        "colab": {
          "base_uri": "https://localhost:8080/",
          "height": 607
        },
        "id": "6A6YSjBk3ahF",
        "outputId": "95dfa79e-14d7-48a0-f6bc-68f7a02c92d4"
      },
      "execution_count": 11,
      "outputs": [
        {
          "output_type": "display_data",
          "data": {
            "text/plain": [
              "<Figure size 800x600 with 1 Axes>"
            ],
            "image/png": "[encoded data removed]"
          },
          "metadata": {}
        }
      ]
    },
    {
      "cell_type": "markdown",
      "source": [
        "# Sampling and Saving\n",
        "Splitting while maintaining label ratio"
      ],
      "metadata": {
        "id": "XwFlfZIySLhL"
      }
    },
    {
      "cell_type": "markdown",
      "source": [
        "### 100%"
      ],
      "metadata": {
        "id": "3KMCGKzmU1GJ"
      }
    },
    {
      "cell_type": "code",
      "source": [
        "# Assuming your DataFrame is named 'train'\n",
        "sampled_df = train.copy()\n",
        "\n",
        "# Now, 'train_sample' is the 100% sample of your original DataFrame"
      ],
      "metadata": {
        "id": "FyzRJBUy3rc1"
      },
      "execution_count": 12,
      "outputs": []
    },
    {
      "cell_type": "code",
      "source": [
        "label_ratios = sampled_df['label'].value_counts(normalize=True)\n",
        "label_ratios"
      ],
      "metadata": {
        "colab": {
          "base_uri": "https://localhost:8080/"
        },
        "id": "V_gF-CWYToTX",
        "outputId": "0da88eab-c86e-49e1-a64c-56818fd5243a"
      },
      "execution_count": 13,
      "outputs": [
        {
          "output_type": "execute_result",
          "data": {
            "text/plain": [
              "1    0.409474\n",
              "2    0.362105\n",
              "0    0.228422\n",
              "Name: label, dtype: float64"
            ]
          },
          "metadata": {},
          "execution_count": 13
        }
      ]
    },
    {
      "cell_type": "code",
      "source": [
        "len(sampled_df)"
      ],
      "metadata": {
        "colab": {
          "base_uri": "https://localhost:8080/"
        },
        "id": "pYBivADV361E",
        "outputId": "2de4c8f5-2909-463e-de40-289ebec5da42"
      },
      "execution_count": 14,
      "outputs": [
        {
          "output_type": "execute_result",
          "data": {
            "text/plain": [
              "12582"
            ]
          },
          "metadata": {},
          "execution_count": 14
        }
      ]
    },
    {
      "cell_type": "code",
      "source": [
        "sampled_df['label'].value_counts()"
      ],
      "metadata": {
        "colab": {
          "base_uri": "https://localhost:8080/"
        },
        "id": "ujLcuyFw39J-",
        "outputId": "9d770504-7633-4abc-ad0e-1848bc4e102b"
      },
      "execution_count": 15,
      "outputs": [
        {
          "output_type": "execute_result",
          "data": {
            "text/plain": [
              "1    5152\n",
              "2    4556\n",
              "0    2874\n",
              "Name: label, dtype: int64"
            ]
          },
          "metadata": {},
          "execution_count": 15
        }
      ]
    },
    {
      "cell_type": "code",
      "source": [
        "import matplotlib.pyplot as plt\n",
        "\n",
        "plt.figure(figsize=(8, 6))\n",
        "sampled_df['label'].value_counts().plot(kind='bar', color=['#1f77b4', '#aec7e8', '#9467bd'])  # Dark blue, light blue, and purple\n",
        "plt.title('Class Distribution', fontsize=14, fontweight='bold')\n",
        "plt.xlabel('Class Label', fontsize=12)\n",
        "plt.ylabel('Frequency', fontsize=12)\n",
        "\n",
        "# Adding value labels to each bar\n",
        "for index, value in enumerate(sampled_df['label'].value_counts()):\n",
        "    plt.text(index, value, str(value), ha='center', va='bottom', fontsize=10)\n",
        "\n",
        "plt.xticks(rotation=0)  # Keeps the class labels horizontal\n",
        "plt.grid(axis='y', linestyle='--', alpha=0.7)  # Adds a grid for easier reading\n",
        "plt.tight_layout()\n",
        "plt.show()"
      ],
      "metadata": {
        "colab": {
          "base_uri": "https://localhost:8080/",
          "height": 607
        },
        "id": "f2jj36Jf3_fe",
        "outputId": "bb4f5c6e-29b1-43f1-e764-304038153ddd"
      },
      "execution_count": 16,
      "outputs": [
        {
          "output_type": "display_data",
          "data": {
            "text/plain": [
              "<Figure size 800x600 with 1 Axes>"
            ],
            "image/png": "[encoded data removed]"
          },
          "metadata": {}
        }
      ]
    },
    {
      "cell_type": "code",
      "source": [
        "ratio = len(sampled_df)/len(train)\n",
        "print(f\"Ratio: {ratio}\")"
      ],
      "metadata": {
        "colab": {
          "base_uri": "https://localhost:8080/"
        },
        "id": "Ldilwyib4Bzo",
        "outputId": "df944a47-22c7-45d1-92df-47c9e0cba90b"
      },
      "execution_count": 17,
      "outputs": [
        {
          "output_type": "stream",
          "name": "stdout",
          "text": [
            "Ratio: 1.0\n"
          ]
        }
      ]
    },
    {
      "cell_type": "code",
      "source": [
        "sampled_df.to_csv(base_path+\"train_100.csv\", index=False)"
      ],
      "metadata": {
        "id": "zblERzGi4DrK"
      },
      "execution_count": 18,
      "outputs": []
    },
    {
      "cell_type": "markdown",
      "source": [
        "### 75%"
      ],
      "metadata": {
        "id": "uZHyDAqaVSQU"
      }
    },
    {
      "cell_type": "code",
      "source": [
        "# Assuming your DataFrame is named 'train'\n",
        "sampled_df, _ = train_test_split(train, train_size=0.75, stratify=train['label'])\n",
        "\n",
        "# Now, 'train_sample' is the 75% sample of your original DataFrame"
      ],
      "metadata": {
        "id": "_twL40b2SOB9"
      },
      "execution_count": 19,
      "outputs": []
    },
    {
      "cell_type": "code",
      "source": [
        "label_ratios = sampled_df['label'].value_counts(normalize=True)\n",
        "label_ratios"
      ],
      "metadata": {
        "colab": {
          "base_uri": "https://localhost:8080/"
        },
        "id": "G5widUYySZkP",
        "outputId": "8b7b60eb-540e-48df-9341-ed3c88245c69"
      },
      "execution_count": 20,
      "outputs": [
        {
          "output_type": "execute_result",
          "data": {
            "text/plain": [
              "1    0.409496\n",
              "2    0.362124\n",
              "0    0.228381\n",
              "Name: label, dtype: float64"
            ]
          },
          "metadata": {},
          "execution_count": 20
        }
      ]
    },
    {
      "cell_type": "code",
      "source": [
        "len(sampled_df)"
      ],
      "metadata": {
        "colab": {
          "base_uri": "https://localhost:8080/"
        },
        "id": "tRGBgnzVTeI1",
        "outputId": "41ecebfb-5ae8-4ffd-9a0a-e67262cf3f86"
      },
      "execution_count": 21,
      "outputs": [
        {
          "output_type": "execute_result",
          "data": {
            "text/plain": [
              "9436"
            ]
          },
          "metadata": {},
          "execution_count": 21
        }
      ]
    },
    {
      "cell_type": "code",
      "source": [
        "sampled_df['label'].value_counts()"
      ],
      "metadata": {
        "colab": {
          "base_uri": "https://localhost:8080/"
        },
        "id": "zgZLZbQpTu5E",
        "outputId": "5651c20b-073b-47fe-e708-de21b5be5864"
      },
      "execution_count": 22,
      "outputs": [
        {
          "output_type": "execute_result",
          "data": {
            "text/plain": [
              "1    3864\n",
              "2    3417\n",
              "0    2155\n",
              "Name: label, dtype: int64"
            ]
          },
          "metadata": {},
          "execution_count": 22
        }
      ]
    },
    {
      "cell_type": "code",
      "source": [
        "import matplotlib.pyplot as plt\n",
        "\n",
        "plt.figure(figsize=(8, 6))\n",
        "sampled_df['label'].value_counts().plot(kind='bar', color=['#1f77b4', '#aec7e8', '#9467bd'])  # Dark blue, light blue, and purple\n",
        "plt.title('Class Distribution', fontsize=14, fontweight='bold')\n",
        "plt.xlabel('Class Label', fontsize=12)\n",
        "plt.ylabel('Frequency', fontsize=12)\n",
        "\n",
        "# Adding value labels to each bar\n",
        "for index, value in enumerate(sampled_df['label'].value_counts()):\n",
        "    plt.text(index, value, str(value), ha='center', va='bottom', fontsize=10)\n",
        "\n",
        "plt.xticks(rotation=0)  # Keeps the class labels horizontal\n",
        "plt.grid(axis='y', linestyle='--', alpha=0.7)  # Adds a grid for easier reading\n",
        "plt.tight_layout()\n",
        "plt.show()"
      ],
      "metadata": {
        "colab": {
          "base_uri": "https://localhost:8080/",
          "height": 607
        },
        "id": "e4fdFNgcfAjm",
        "outputId": "a315fc9c-ae37-4cfd-9797-be0c6556a029"
      },
      "execution_count": 23,
      "outputs": [
        {
          "output_type": "display_data",
          "data": {
            "text/plain": [
              "<Figure size 800x600 with 1 Axes>"
            ],
            "image/png": "[encoded data removed]"
          },
          "metadata": {}
        }
      ]
    },
    {
      "cell_type": "code",
      "source": [
        "ratio = len(sampled_df)/len(train)\n",
        "print(f\"Ratio: {ratio}\")"
      ],
      "metadata": {
        "colab": {
          "base_uri": "https://localhost:8080/"
        },
        "id": "SkhZn2j4djvk",
        "outputId": "cb656f2b-c021-4f04-8fff-3994db6cfaa1"
      },
      "execution_count": 24,
      "outputs": [
        {
          "output_type": "stream",
          "name": "stdout",
          "text": [
            "Ratio: 0.7499602606898744\n"
          ]
        }
      ]
    },
    {
      "cell_type": "code",
      "source": [
        "sampled_df.to_csv(base_path+\"train_75.csv\", index=False)"
      ],
      "metadata": {
        "id": "rkudxDejaNba"
      },
      "execution_count": 25,
      "outputs": []
    },
    {
      "cell_type": "markdown",
      "source": [
        "### 50%"
      ],
      "metadata": {
        "id": "ccy0LnTzYWjM"
      }
    },
    {
      "cell_type": "code",
      "source": [
        "# Assuming your DataFrame is named 'train'\n",
        "sampled_df, _ = train_test_split(train, train_size=0.50, stratify=train['label'])\n",
        "\n",
        "# Now, 'train_sample' is the 50% sample of your original DataFrame"
      ],
      "metadata": {
        "id": "FYlD5J92b16C"
      },
      "execution_count": 26,
      "outputs": []
    },
    {
      "cell_type": "code",
      "source": [
        "label_ratios = sampled_df['label'].value_counts(normalize=True)\n",
        "label_ratios"
      ],
      "metadata": {
        "colab": {
          "base_uri": "https://localhost:8080/"
        },
        "id": "u64Q-iM1b4kF",
        "outputId": "7d9ce5e4-d6a9-49ac-9819-93a64472aaff"
      },
      "execution_count": 27,
      "outputs": [
        {
          "output_type": "execute_result",
          "data": {
            "text/plain": [
              "1    0.409474\n",
              "2    0.362105\n",
              "0    0.228422\n",
              "Name: label, dtype: float64"
            ]
          },
          "metadata": {},
          "execution_count": 27
        }
      ]
    },
    {
      "cell_type": "code",
      "source": [
        "len(sampled_df)"
      ],
      "metadata": {
        "colab": {
          "base_uri": "https://localhost:8080/"
        },
        "id": "7eRJqsA8b693",
        "outputId": "4d5ea741-dddf-4382-bc65-c2c68d0000dd"
      },
      "execution_count": 28,
      "outputs": [
        {
          "output_type": "execute_result",
          "data": {
            "text/plain": [
              "6291"
            ]
          },
          "metadata": {},
          "execution_count": 28
        }
      ]
    },
    {
      "cell_type": "code",
      "source": [
        "sampled_df['label'].value_counts()"
      ],
      "metadata": {
        "colab": {
          "base_uri": "https://localhost:8080/"
        },
        "id": "KigI8SdJb63n",
        "outputId": "ae5612e7-890d-40ed-878b-5f986e04d054"
      },
      "execution_count": 29,
      "outputs": [
        {
          "output_type": "execute_result",
          "data": {
            "text/plain": [
              "1    2576\n",
              "2    2278\n",
              "0    1437\n",
              "Name: label, dtype: int64"
            ]
          },
          "metadata": {},
          "execution_count": 29
        }
      ]
    },
    {
      "cell_type": "code",
      "source": [
        "import matplotlib.pyplot as plt\n",
        "\n",
        "plt.figure(figsize=(8, 6))\n",
        "sampled_df['label'].value_counts().plot(kind='bar', color=['#1f77b4', '#aec7e8', '#9467bd'])  # Dark blue, light blue, and purple\n",
        "plt.title('Class Distribution', fontsize=14, fontweight='bold')\n",
        "plt.xlabel('Class Label', fontsize=12)\n",
        "plt.ylabel('Frequency', fontsize=12)\n",
        "\n",
        "# Adding value labels to each bar\n",
        "for index, value in enumerate(sampled_df['label'].value_counts()):\n",
        "    plt.text(index, value, str(value), ha='center', va='bottom', fontsize=10)\n",
        "\n",
        "plt.xticks(rotation=0)  # Keeps the class labels horizontal\n",
        "plt.grid(axis='y', linestyle='--', alpha=0.7)  # Adds a grid for easier reading\n",
        "plt.tight_layout()\n",
        "plt.show()"
      ],
      "metadata": {
        "colab": {
          "base_uri": "https://localhost:8080/",
          "height": 607
        },
        "id": "gPsMpHWvezD0",
        "outputId": "d69cc368-0e8e-4d84-e1ed-6fa41dce9a16"
      },
      "execution_count": 30,
      "outputs": [
        {
          "output_type": "display_data",
          "data": {
            "text/plain": [
              "<Figure size 800x600 with 1 Axes>"
            ],
            "image/png": "[encoded data removed]"
          },
          "metadata": {}
        }
      ]
    },
    {
      "cell_type": "code",
      "source": [
        "ratio = len(sampled_df)/len(train)\n",
        "print(f\"Ratio: {ratio}\")"
      ],
      "metadata": {
        "colab": {
          "base_uri": "https://localhost:8080/"
        },
        "id": "Ud-VBsf1dlIq",
        "outputId": "0e2bdd55-7c32-45f5-a276-cd2144213e9a"
      },
      "execution_count": 31,
      "outputs": [
        {
          "output_type": "stream",
          "name": "stdout",
          "text": [
            "Ratio: 0.5\n"
          ]
        }
      ]
    },
    {
      "cell_type": "code",
      "source": [
        "sampled_df.to_csv(base_path+\"train_50.csv\", index=False)"
      ],
      "metadata": {
        "id": "M3KiE-IZb95m"
      },
      "execution_count": 32,
      "outputs": []
    },
    {
      "cell_type": "markdown",
      "source": [
        "### 37.5%"
      ],
      "metadata": {
        "id": "_Ys5pWD7b_rJ"
      }
    },
    {
      "cell_type": "code",
      "source": [
        "# Assuming your DataFrame is named 'train'\n",
        "sampled_df, _ = train_test_split(train, train_size=0.375, stratify=train['label'])\n",
        "\n",
        "# Now, 'train_sample' is the 37.5% sample of your original DataFrame"
      ],
      "metadata": {
        "id": "GOXuJneNclos"
      },
      "execution_count": 33,
      "outputs": []
    },
    {
      "cell_type": "code",
      "source": [
        "label_ratios = sampled_df['label'].value_counts(normalize=True)\n",
        "label_ratios"
      ],
      "metadata": {
        "colab": {
          "base_uri": "https://localhost:8080/"
        },
        "id": "WnIqmYfMcpeI",
        "outputId": "46a9256c-d043-4ba3-e687-e5c0822be249"
      },
      "execution_count": 34,
      "outputs": [
        {
          "output_type": "execute_result",
          "data": {
            "text/plain": [
              "1    0.409496\n",
              "2    0.362018\n",
              "0    0.228487\n",
              "Name: label, dtype: float64"
            ]
          },
          "metadata": {},
          "execution_count": 34
        }
      ]
    },
    {
      "cell_type": "code",
      "source": [
        "len(sampled_df)"
      ],
      "metadata": {
        "colab": {
          "base_uri": "https://localhost:8080/"
        },
        "id": "PMhUEnmZcqj4",
        "outputId": "d780cf64-9bd8-45ab-feed-2405855ec64c"
      },
      "execution_count": 35,
      "outputs": [
        {
          "output_type": "execute_result",
          "data": {
            "text/plain": [
              "4718"
            ]
          },
          "metadata": {},
          "execution_count": 35
        }
      ]
    },
    {
      "cell_type": "code",
      "source": [
        "sampled_df['label'].value_counts()"
      ],
      "metadata": {
        "colab": {
          "base_uri": "https://localhost:8080/"
        },
        "id": "C2k6VdBTcr9d",
        "outputId": "ad278655-a753-4cf3-e84d-e51c3863915b"
      },
      "execution_count": 36,
      "outputs": [
        {
          "output_type": "execute_result",
          "data": {
            "text/plain": [
              "1    1932\n",
              "2    1708\n",
              "0    1078\n",
              "Name: label, dtype: int64"
            ]
          },
          "metadata": {},
          "execution_count": 36
        }
      ]
    },
    {
      "cell_type": "code",
      "source": [
        "import matplotlib.pyplot as plt\n",
        "\n",
        "plt.figure(figsize=(8, 6))\n",
        "sampled_df['label'].value_counts().plot(kind='bar', color=['#1f77b4', '#aec7e8', '#9467bd'])  # Dark blue, light blue, and purple\n",
        "plt.title('Class Distribution', fontsize=14, fontweight='bold')\n",
        "plt.xlabel('Class Label', fontsize=12)\n",
        "plt.ylabel('Frequency', fontsize=12)\n",
        "\n",
        "# Adding value labels to each bar\n",
        "for index, value in enumerate(sampled_df['label'].value_counts()):\n",
        "    plt.text(index, value, str(value), ha='center', va='bottom', fontsize=10)\n",
        "\n",
        "plt.xticks(rotation=0)  # Keeps the class labels horizontal\n",
        "plt.grid(axis='y', linestyle='--', alpha=0.7)  # Adds a grid for easier reading\n",
        "plt.tight_layout()\n",
        "plt.show()"
      ],
      "metadata": {
        "colab": {
          "base_uri": "https://localhost:8080/",
          "height": 607
        },
        "id": "68HFhldufFO1",
        "outputId": "a7281684-2189-4ba8-b733-ddcc9374ea2e"
      },
      "execution_count": 37,
      "outputs": [
        {
          "output_type": "display_data",
          "data": {
            "text/plain": [
              "<Figure size 800x600 with 1 Axes>"
            ],
            "image/png": "[encoded data removed]"
          },
          "metadata": {}
        }
      ]
    },
    {
      "cell_type": "code",
      "source": [
        "ratio = len(sampled_df)/len(train)\n",
        "print(f\"Ratio: {ratio}\")"
      ],
      "metadata": {
        "colab": {
          "base_uri": "https://localhost:8080/"
        },
        "id": "QWelHDeOdFi5",
        "outputId": "f0374ded-e9d1-4af2-9952-2d470557b890"
      },
      "execution_count": 38,
      "outputs": [
        {
          "output_type": "stream",
          "name": "stdout",
          "text": [
            "Ratio: 0.3749801303449372\n"
          ]
        }
      ]
    },
    {
      "cell_type": "code",
      "source": [
        "sampled_df.to_csv(base_path+\"train_375.csv\", index=False)"
      ],
      "metadata": {
        "id": "sFII5wCpcs3F"
      },
      "execution_count": 39,
      "outputs": []
    },
    {
      "cell_type": "markdown",
      "source": [
        "### 25%"
      ],
      "metadata": {
        "id": "tKEwSpKJcwqc"
      }
    },
    {
      "cell_type": "code",
      "source": [
        "# Assuming your DataFrame is named 'train'\n",
        "sampled_df, _ = train_test_split(train, train_size=0.25, stratify=train['label'])\n",
        "\n",
        "# Now, 'train_sample' is the 25% sample of your original DataFrame"
      ],
      "metadata": {
        "id": "n9AX1epYcyjC"
      },
      "execution_count": 40,
      "outputs": []
    },
    {
      "cell_type": "code",
      "source": [
        "label_ratios = sampled_df['label'].value_counts(normalize=True)\n",
        "label_ratios"
      ],
      "metadata": {
        "colab": {
          "base_uri": "https://localhost:8080/"
        },
        "id": "efZUFwu_c044",
        "outputId": "72754874-b1fd-4b9c-d220-1b4ee2e3c845"
      },
      "execution_count": 41,
      "outputs": [
        {
          "output_type": "execute_result",
          "data": {
            "text/plain": [
              "1    0.409539\n",
              "2    0.362162\n",
              "0    0.228299\n",
              "Name: label, dtype: float64"
            ]
          },
          "metadata": {},
          "execution_count": 41
        }
      ]
    },
    {
      "cell_type": "code",
      "source": [
        "len(sampled_df)"
      ],
      "metadata": {
        "colab": {
          "base_uri": "https://localhost:8080/"
        },
        "id": "r9VbDZwzc1yV",
        "outputId": "e6915d60-c5e5-4078-d897-069a6ce9ea9d"
      },
      "execution_count": 42,
      "outputs": [
        {
          "output_type": "execute_result",
          "data": {
            "text/plain": [
              "3145"
            ]
          },
          "metadata": {},
          "execution_count": 42
        }
      ]
    },
    {
      "cell_type": "code",
      "source": [
        "sampled_df['label'].value_counts()"
      ],
      "metadata": {
        "colab": {
          "base_uri": "https://localhost:8080/"
        },
        "id": "7Zej50TIc23s",
        "outputId": "cbe134a3-3cf4-4f3b-f587-fea807bb736d"
      },
      "execution_count": 43,
      "outputs": [
        {
          "output_type": "execute_result",
          "data": {
            "text/plain": [
              "1    1288\n",
              "2    1139\n",
              "0     718\n",
              "Name: label, dtype: int64"
            ]
          },
          "metadata": {},
          "execution_count": 43
        }
      ]
    },
    {
      "cell_type": "code",
      "source": [
        "import matplotlib.pyplot as plt\n",
        "\n",
        "plt.figure(figsize=(8, 6))\n",
        "sampled_df['label'].value_counts().plot(kind='bar', color=['#1f77b4', '#aec7e8', '#9467bd'])  # Dark blue, light blue, and purple\n",
        "plt.title('Class Distribution', fontsize=14, fontweight='bold')\n",
        "plt.xlabel('Class Label', fontsize=12)\n",
        "plt.ylabel('Frequency', fontsize=12)\n",
        "\n",
        "# Adding value labels to each bar\n",
        "for index, value in enumerate(sampled_df['label'].value_counts()):\n",
        "    plt.text(index, value, str(value), ha='center', va='bottom', fontsize=10)\n",
        "\n",
        "plt.xticks(rotation=0)  # Keeps the class labels horizontal\n",
        "plt.grid(axis='y', linestyle='--', alpha=0.7)  # Adds a grid for easier reading\n",
        "plt.tight_layout()\n",
        "plt.show()"
      ],
      "metadata": {
        "colab": {
          "base_uri": "https://localhost:8080/",
          "height": 607
        },
        "id": "5q28VvHZfG1t",
        "outputId": "d0c3a316-f13a-47ee-fb53-24c5e54455a8"
      },
      "execution_count": 44,
      "outputs": [
        {
          "output_type": "display_data",
          "data": {
            "text/plain": [
              "<Figure size 800x600 with 1 Axes>"
            ],
            "image/png": "[encoded data removed]"
          },
          "metadata": {}
        }
      ]
    },
    {
      "cell_type": "code",
      "source": [
        "ratio = len(sampled_df)/len(train)\n",
        "print(f\"Ratio: {ratio}\")"
      ],
      "metadata": {
        "colab": {
          "base_uri": "https://localhost:8080/"
        },
        "id": "0wi2mOjxdoRH",
        "outputId": "4baa4f6e-c477-4c07-9fa4-9091bee6d921"
      },
      "execution_count": 45,
      "outputs": [
        {
          "output_type": "stream",
          "name": "stdout",
          "text": [
            "Ratio: 0.24996026068987443\n"
          ]
        }
      ]
    },
    {
      "cell_type": "code",
      "source": [
        "sampled_df.to_csv(base_path+\"train_25.csv\", index=False)"
      ],
      "metadata": {
        "id": "vxJz9TImc3-9"
      },
      "execution_count": 46,
      "outputs": []
    },
    {
      "cell_type": "markdown",
      "source": [
        "### 10%"
      ],
      "metadata": {
        "id": "GBa_-Izvc7iy"
      }
    },
    {
      "cell_type": "code",
      "source": [
        "# Assuming your DataFrame is named 'train'\n",
        "sampled_df, _ = train_test_split(train, train_size=0.10, stratify=train['label'])\n",
        "\n",
        "# Now, 'train_sample' is the 10% sample of your original DataFrame"
      ],
      "metadata": {
        "id": "56Llx_H0c81z"
      },
      "execution_count": 47,
      "outputs": []
    },
    {
      "cell_type": "code",
      "source": [
        "label_ratios = sampled_df['label'].value_counts(normalize=True)\n",
        "label_ratios"
      ],
      "metadata": {
        "colab": {
          "base_uri": "https://localhost:8080/"
        },
        "id": "RuOSEkVcc-1-",
        "outputId": "c0271d40-9645-4d33-fcd3-8f55fdd47418"
      },
      "execution_count": 48,
      "outputs": [
        {
          "output_type": "execute_result",
          "data": {
            "text/plain": [
              "1    0.40938\n",
              "2    0.36248\n",
              "0    0.22814\n",
              "Name: label, dtype: float64"
            ]
          },
          "metadata": {},
          "execution_count": 48
        }
      ]
    },
    {
      "cell_type": "code",
      "source": [
        "len(sampled_df)"
      ],
      "metadata": {
        "colab": {
          "base_uri": "https://localhost:8080/"
        },
        "id": "9oSCOn2qc_tq",
        "outputId": "adcc1d05-a0f9-4701-bd79-91f81707d132"
      },
      "execution_count": 49,
      "outputs": [
        {
          "output_type": "execute_result",
          "data": {
            "text/plain": [
              "1258"
            ]
          },
          "metadata": {},
          "execution_count": 49
        }
      ]
    },
    {
      "cell_type": "code",
      "source": [
        "sampled_df['label'].value_counts()"
      ],
      "metadata": {
        "colab": {
          "base_uri": "https://localhost:8080/"
        },
        "id": "9sb5KTU_dAnH",
        "outputId": "38763c5f-a87b-43a8-f665-d4a772b4c717"
      },
      "execution_count": 50,
      "outputs": [
        {
          "output_type": "execute_result",
          "data": {
            "text/plain": [
              "1    515\n",
              "2    456\n",
              "0    287\n",
              "Name: label, dtype: int64"
            ]
          },
          "metadata": {},
          "execution_count": 50
        }
      ]
    },
    {
      "cell_type": "code",
      "source": [
        "import matplotlib.pyplot as plt\n",
        "\n",
        "plt.figure(figsize=(8, 6))\n",
        "sampled_df['label'].value_counts().plot(kind='bar', color=['#1f77b4', '#aec7e8', '#9467bd'])  # Dark blue, light blue, and purple\n",
        "plt.title('Class Distribution', fontsize=14, fontweight='bold')\n",
        "plt.xlabel('Class Label', fontsize=12)\n",
        "plt.ylabel('Frequency', fontsize=12)\n",
        "\n",
        "# Adding value labels to each bar\n",
        "for index, value in enumerate(sampled_df['label'].value_counts()):\n",
        "    plt.text(index, value, str(value), ha='center', va='bottom', fontsize=10)\n",
        "\n",
        "plt.xticks(rotation=0)  # Keeps the class labels horizontal\n",
        "plt.grid(axis='y', linestyle='--', alpha=0.7)  # Adds a grid for easier reading\n",
        "plt.tight_layout()\n",
        "plt.show()"
      ],
      "metadata": {
        "colab": {
          "base_uri": "https://localhost:8080/",
          "height": 607
        },
        "id": "fObA-ndNfKFQ",
        "outputId": "5338418d-3e96-4368-8895-0eb72b9d3526"
      },
      "execution_count": 51,
      "outputs": [
        {
          "output_type": "display_data",
          "data": {
            "text/plain": [
              "<Figure size 800x600 with 1 Axes>"
            ],
            "image/png": "[encoded data removed]"
          },
          "metadata": {}
        }
      ]
    },
    {
      "cell_type": "code",
      "source": [
        "ratio = len(sampled_df)/len(train)\n",
        "print(f\"Ratio: {ratio}\")"
      ],
      "metadata": {
        "colab": {
          "base_uri": "https://localhost:8080/"
        },
        "id": "-LmpAt1RdphS",
        "outputId": "8cf013c7-5b0f-421c-a915-9c9211c6fb5e"
      },
      "execution_count": 52,
      "outputs": [
        {
          "output_type": "stream",
          "name": "stdout",
          "text": [
            "Ratio: 0.09998410427594977\n"
          ]
        }
      ]
    },
    {
      "cell_type": "code",
      "source": [
        "sampled_df.to_csv(base_path+\"train_10.csv\", index=False)"
      ],
      "metadata": {
        "id": "MyM1FsOgdBiZ"
      },
      "execution_count": 53,
      "outputs": []
    }
  ]
}